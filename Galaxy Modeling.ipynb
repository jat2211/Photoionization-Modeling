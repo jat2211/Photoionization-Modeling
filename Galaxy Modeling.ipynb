{
 "cells": [
  {
   "cell_type": "markdown",
   "metadata": {},
   "source": [
    "# J1044 ABUNDANCE SCALES AND METALLICITIES"
   ]
  },
  {
   "cell_type": "markdown",
   "metadata": {},
   "source": [
    "## Importing Packages"
   ]
  },
  {
   "cell_type": "code",
   "execution_count": null,
   "metadata": {},
   "outputs": [],
   "source": [
    "import numpy as np\n",
    "import pandas as pd"
   ]
  },
  {
   "cell_type": "code",
   "execution_count": null,
   "metadata": {},
   "outputs": [],
   "source": [
    "from astropy.io import fits as pyfits\n",
    "from astropy.table import Table\n",
    "from astropy.io import ascii"
   ]
  },
  {
   "cell_type": "code",
   "execution_count": 2,
   "metadata": {},
   "outputs": [],
   "source": [
    "import os\n",
    "import sys\n",
    "import re"
   ]
  },
  {
   "cell_type": "markdown",
   "metadata": {},
   "source": [
    "## Metallicity Determination by Hand"
   ]
  },
  {
   "cell_type": "code",
   "execution_count": 3,
   "metadata": {},
   "outputs": [
    {
     "data": {
      "text/plain": [
       "-4.53"
      ]
     },
     "execution_count": 3,
     "metadata": {},
     "output_type": "execute_result"
    }
   ],
   "source": [
    "logOH12_gal = 7.47\n",
    "logOH_gal = logOH12_gal - 12\n",
    "\n",
    "logOH_gal"
   ]
  },
  {
   "cell_type": "code",
   "execution_count": 4,
   "metadata": {},
   "outputs": [
    {
     "name": "stdout",
     "output_type": "stream",
     "text": [
      "J1044 O/H: -4.53\n",
      "Solar O/H: -3.31\n"
     ]
    }
   ],
   "source": [
    "logOH_solar = -3.31\n",
    "\n",
    "print(\"J1044 O/H:\", logOH_gal)\n",
    "print(\"Solar O/H:\", logOH_solar)"
   ]
  },
  {
   "cell_type": "markdown",
   "metadata": {},
   "source": [
    "To find the metals and grains, we have to find the value of J1044 O/H over solar O/H. However, note that this is a log value and we want to make it linear."
   ]
  },
  {
   "cell_type": "code",
   "execution_count": 5,
   "metadata": {},
   "outputs": [
    {
     "name": "stdout",
     "output_type": "stream",
     "text": [
      "J1044 metals and grains: 0.06\n"
     ]
    }
   ],
   "source": [
    "metallicity = (10**logOH_gal) / (10**logOH_solar)\n",
    "\n",
    "print(\"J1044 metals and grains:\", \"{:.2f}\".format(metallicity))"
   ]
  },
  {
   "cell_type": "markdown",
   "metadata": {},
   "source": [
    "## Defining a Metallicity Scale Function"
   ]
  },
  {
   "cell_type": "code",
   "execution_count": 6,
   "metadata": {},
   "outputs": [],
   "source": [
    "def find_metals(galaxy_OH12):\n",
    "    solar_logOH = -3.31\n",
    "    galaxy_logOH = galaxy_OH12 - 12\n",
    "\n",
    "    galaxy_metals = (10**galaxy_logOH) / (10**solar_logOH)\n",
    "\n",
    "    return float(\"{:.2f}\".format(galaxy_metals))"
   ]
  },
  {
   "cell_type": "code",
   "execution_count": 7,
   "metadata": {},
   "outputs": [],
   "source": [
    "def find_metals_with_err(galaxy_OH12, galaxy_OH12_err):\n",
    "    solar_logOH = -3.31\n",
    "    galaxy_logOH = galaxy_OH12 - 12\n",
    "    galaxy_logOH_err = (galaxy_OH12 + galaxy_OH12_err) - 12\n",
    "\n",
    "    galaxy_metals = (10**galaxy_logOH) / (10**solar_logOH)\n",
    "    galaxy_metals_1sig = (10**galaxy_logOH_err) / (10**solar_logOH)\n",
    "\n",
    "    # return float(\"{.2f,.2f}\".format(galaxy_metals,galaxy_metals_1sig))\n",
    "    return galaxy_metals, galaxy_metals_1sig"
   ]
  },
  {
   "cell_type": "code",
   "execution_count": 8,
   "metadata": {
    "scrolled": false
   },
   "outputs": [
    {
     "name": "stdout",
     "output_type": "stream",
     "text": [
      "Metallicity function works!\n",
      "Our metals and grains value for J1044 is: 0.06\n"
     ]
    }
   ],
   "source": [
    "if find_metals(7.47) == float(\"{:.2f}\".format(metallicity)):\n",
    "    print(\"Metallicity function works!\")\n",
    "    print(\"Our metals and grains value for J1044 is:\", find_metals(7.47))\n",
    "else:\n",
    "    print(\"Not quite right there.\")"
   ]
  },
  {
   "cell_type": "code",
   "execution_count": 11,
   "metadata": {},
   "outputs": [
    {
     "data": {
      "text/plain": [
       "0.03"
      ]
     },
     "execution_count": 11,
     "metadata": {},
     "output_type": "execute_result"
    }
   ],
   "source": [
    "find_metals(7.44 - 0.3)"
   ]
  },
  {
   "cell_type": "code",
   "execution_count": 12,
   "metadata": {},
   "outputs": [
    {
     "data": {
      "text/plain": [
       "0.11"
      ]
     },
     "execution_count": 12,
     "metadata": {},
     "output_type": "execute_result"
    }
   ],
   "source": [
    "find_metals(7.44 + 0.3)"
   ]
  },
  {
   "cell_type": "markdown",
   "metadata": {},
   "source": [
    "# ELEMENTAL SCALE FUNCTIONS"
   ]
  },
  {
   "cell_type": "markdown",
   "metadata": {},
   "source": [
    "## Defining a Nitrogen Scale Function"
   ]
  },
  {
   "cell_type": "code",
   "execution_count": 13,
   "metadata": {},
   "outputs": [],
   "source": [
    "def N_scale(galaxy_logNO):\n",
    "    solar_logNH = -4.17\n",
    "    solar_logOH = -3.31\n",
    "    solar_NO = (10**solar_logNH) * (1 / (10**solar_logOH))\n",
    "\n",
    "    scale = (10**galaxy_logNO) / (solar_NO)\n",
    "\n",
    "    return float(\"{:.2f}\".format(scale))"
   ]
  },
  {
   "cell_type": "code",
   "execution_count": 17,
   "metadata": {},
   "outputs": [
    {
     "data": {
      "text/plain": [
       "0.28"
      ]
     },
     "execution_count": 17,
     "metadata": {},
     "output_type": "execute_result"
    }
   ],
   "source": [
    "N_scale(-1.35 - 0.06)"
   ]
  },
  {
   "cell_type": "code",
   "execution_count": 15,
   "metadata": {},
   "outputs": [
    {
     "data": {
      "text/plain": [
       "0.37"
      ]
     },
     "execution_count": 15,
     "metadata": {},
     "output_type": "execute_result"
    }
   ],
   "source": [
    "N_scale(-1.35 + 0.06)"
   ]
  },
  {
   "cell_type": "markdown",
   "metadata": {},
   "source": [
    "## Defining a Carbon Scale Function"
   ]
  },
  {
   "cell_type": "code",
   "execution_count": 18,
   "metadata": {},
   "outputs": [],
   "source": [
    "def C_scale(galaxy_logCO):\n",
    "    solar_logCH = -3.57\n",
    "    solar_logOH = -3.31\n",
    "    solar_CO = (10**solar_logCH) * (1 / (10**solar_logOH))\n",
    "\n",
    "    scale = (10**galaxy_logCO) / (solar_CO)\n",
    "\n",
    "    return float(\"{:.2f}\".format(scale))"
   ]
  },
  {
   "cell_type": "code",
   "execution_count": 19,
   "metadata": {},
   "outputs": [
    {
     "data": {
      "text/plain": [
       "0.28"
      ]
     },
     "execution_count": 19,
     "metadata": {},
     "output_type": "execute_result"
    }
   ],
   "source": [
    "C_scale(-0.73 - 0.09)"
   ]
  },
  {
   "cell_type": "code",
   "execution_count": 20,
   "metadata": {},
   "outputs": [
    {
     "data": {
      "text/plain": [
       "0.42"
      ]
     },
     "execution_count": 20,
     "metadata": {},
     "output_type": "execute_result"
    }
   ],
   "source": [
    "C_scale(-0.73 + 0.09)"
   ]
  },
  {
   "cell_type": "markdown",
   "metadata": {},
   "source": [
    "## Defining a Silicon Scale Function"
   ]
  },
  {
   "cell_type": "code",
   "execution_count": 46,
   "metadata": {},
   "outputs": [],
   "source": [
    "def Si_scale(galaxy_logSiO):\n",
    "    solar_logSiH = -4.49\n",
    "    solar_logOH = -3.31\n",
    "    solar_SiO = (10**solar_logSiH) * (1 / (10**solar_logOH))\n",
    "\n",
    "    scale = (10**galaxy_logSiO) / (solar_SiO)\n",
    "\n",
    "    return float(\"{:.2f}\".format(scale))"
   ]
  },
  {
   "cell_type": "markdown",
   "metadata": {},
   "source": [
    "# CONVERTING GALAXY SPREADSHEET INTO DATAFRAME"
   ]
  },
  {
   "cell_type": "code",
   "execution_count": 47,
   "metadata": {},
   "outputs": [
    {
     "data": {
      "text/html": [
       "<div>\n",
       "<style scoped>\n",
       "    .dataframe tbody tr th:only-of-type {\n",
       "        vertical-align: middle;\n",
       "    }\n",
       "\n",
       "    .dataframe tbody tr th {\n",
       "        vertical-align: top;\n",
       "    }\n",
       "\n",
       "    .dataframe thead th {\n",
       "        text-align: right;\n",
       "    }\n",
       "</style>\n",
       "<table border=\"1\" class=\"dataframe\">\n",
       "  <thead>\n",
       "    <tr style=\"text-align: right;\">\n",
       "      <th></th>\n",
       "      <th>Galaxy</th>\n",
       "      <th>SDSS_density</th>\n",
       "      <th>SDSS_12logOH</th>\n",
       "      <th>OH_error (-)</th>\n",
       "      <th>OH_error (+)</th>\n",
       "      <th>MUSE_12logOH</th>\n",
       "    </tr>\n",
       "  </thead>\n",
       "  <tbody>\n",
       "    <tr>\n",
       "      <th>0</th>\n",
       "      <td>J0021+0052</td>\n",
       "      <td>90</td>\n",
       "      <td>8.28</td>\n",
       "      <td>0.06</td>\n",
       "      <td>0.06</td>\n",
       "      <td>8.14</td>\n",
       "    </tr>\n",
       "    <tr>\n",
       "      <th>1</th>\n",
       "      <td>J0036-3333</td>\n",
       "      <td>-</td>\n",
       "      <td>-</td>\n",
       "      <td>-</td>\n",
       "      <td>-</td>\n",
       "      <td>7.47</td>\n",
       "    </tr>\n",
       "    <tr>\n",
       "      <th>2</th>\n",
       "      <td>J0127-0619</td>\n",
       "      <td>-</td>\n",
       "      <td>-</td>\n",
       "      <td>-</td>\n",
       "      <td>-</td>\n",
       "      <td>-</td>\n",
       "    </tr>\n",
       "    <tr>\n",
       "      <th>3</th>\n",
       "      <td>J0144+0453</td>\n",
       "      <td>-</td>\n",
       "      <td>-</td>\n",
       "      <td>-</td>\n",
       "      <td>-</td>\n",
       "      <td>-</td>\n",
       "    </tr>\n",
       "    <tr>\n",
       "      <th>4</th>\n",
       "      <td>J0337-0502</td>\n",
       "      <td>-</td>\n",
       "      <td>-</td>\n",
       "      <td>-</td>\n",
       "      <td>-</td>\n",
       "      <td>-</td>\n",
       "    </tr>\n",
       "    <tr>\n",
       "      <th>5</th>\n",
       "      <td>J0405-3648</td>\n",
       "      <td>-</td>\n",
       "      <td>-</td>\n",
       "      <td>-</td>\n",
       "      <td>-</td>\n",
       "      <td>7.22</td>\n",
       "    </tr>\n",
       "    <tr>\n",
       "      <th>6</th>\n",
       "      <td>J0808+3948</td>\n",
       "      <td>1250</td>\n",
       "      <td>-</td>\n",
       "      <td>-</td>\n",
       "      <td>-</td>\n",
       "      <td>-</td>\n",
       "    </tr>\n",
       "    <tr>\n",
       "      <th>7</th>\n",
       "      <td>J0823+2806</td>\n",
       "      <td>150</td>\n",
       "      <td>8.33</td>\n",
       "      <td>0.05</td>\n",
       "      <td>0.05</td>\n",
       "      <td>-</td>\n",
       "    </tr>\n",
       "    <tr>\n",
       "      <th>8</th>\n",
       "      <td>J0926+4427</td>\n",
       "      <td>100</td>\n",
       "      <td>8.05</td>\n",
       "      <td>0.08</td>\n",
       "      <td>0.06</td>\n",
       "      <td>-</td>\n",
       "    </tr>\n",
       "    <tr>\n",
       "      <th>9</th>\n",
       "      <td>J0934+5514</td>\n",
       "      <td>-</td>\n",
       "      <td>-</td>\n",
       "      <td>-</td>\n",
       "      <td>-</td>\n",
       "      <td>-</td>\n",
       "    </tr>\n",
       "  </tbody>\n",
       "</table>\n",
       "</div>"
      ],
      "text/plain": [
       "       Galaxy SDSS_density SDSS_12logOH OH_error (-) OH_error (+) MUSE_12logOH\n",
       "0  J0021+0052           90         8.28         0.06         0.06         8.14\n",
       "1  J0036-3333            -            -            -            -         7.47\n",
       "2  J0127-0619            -            -            -            -            -\n",
       "3  J0144+0453            -            -            -            -            -\n",
       "4  J0337-0502            -            -            -            -            -\n",
       "5  J0405-3648            -            -            -            -         7.22\n",
       "6  J0808+3948         1250            -            -            -            -\n",
       "7  J0823+2806          150         8.33         0.05         0.05            -\n",
       "8  J0926+4427          100         8.05         0.08         0.06            -\n",
       "9  J0934+5514            -            -            -            -            -"
      ]
     },
     "execution_count": 47,
     "metadata": {},
     "output_type": "execute_result"
    }
   ],
   "source": [
    "galaxy_vals = pd.read_excel('CLASSY_Metallicity_Te.xlsx')\n",
    "\n",
    "df = galaxy_vals[[\n",
    "    'Unnamed: 1', 'Unnamed: 3', 'Unnamed: 7', 'Unnamed: 8', 'Unnamed: 9',\n",
    "    'Unnamed: 12'\n",
    "]]\n",
    "\n",
    "df1 = df.loc[6:].reset_index(drop=True)\n",
    "df2 = df1.rename(\n",
    "    columns={\n",
    "        'Unnamed: 1': 'Galaxy',\n",
    "        'Unnamed: 3': 'SDSS_density',\n",
    "        'Unnamed: 7': 'SDSS_12logOH',\n",
    "        'Unnamed: 8': 'OH_error (-)',\n",
    "        'Unnamed: 9': 'OH_error (+)',\n",
    "        'Unnamed: 12': 'MUSE_12logOH'\n",
    "    })\n",
    "\n",
    "galaxies = df2\n",
    "galaxies.iloc[43, 2] = 7.77\n",
    "\n",
    "galaxies.head(10)"
   ]
  },
  {
   "cell_type": "markdown",
   "metadata": {},
   "source": [
    "# DETERMINING METALLICITY SCALES FOR ALL GALAXIES"
   ]
  },
  {
   "cell_type": "code",
   "execution_count": 48,
   "metadata": {},
   "outputs": [
    {
     "data": {
      "text/html": [
       "<div>\n",
       "<style scoped>\n",
       "    .dataframe tbody tr th:only-of-type {\n",
       "        vertical-align: middle;\n",
       "    }\n",
       "\n",
       "    .dataframe tbody tr th {\n",
       "        vertical-align: top;\n",
       "    }\n",
       "\n",
       "    .dataframe thead th {\n",
       "        text-align: right;\n",
       "    }\n",
       "</style>\n",
       "<table border=\"1\" class=\"dataframe\">\n",
       "  <thead>\n",
       "    <tr style=\"text-align: right;\">\n",
       "      <th></th>\n",
       "      <th>Galaxy</th>\n",
       "      <th>SDSS_density</th>\n",
       "      <th>SDSS_12logOH</th>\n",
       "      <th>OH_error (-)</th>\n",
       "      <th>OH_error (+)</th>\n",
       "      <th>MUSE_12logOH</th>\n",
       "      <th>CLOUDY metals and grains</th>\n",
       "    </tr>\n",
       "  </thead>\n",
       "  <tbody>\n",
       "    <tr>\n",
       "      <th>0</th>\n",
       "      <td>J0021+0052</td>\n",
       "      <td>90</td>\n",
       "      <td>8.28</td>\n",
       "      <td>0.06</td>\n",
       "      <td>0.06</td>\n",
       "      <td>8.14</td>\n",
       "      <td>0.39</td>\n",
       "    </tr>\n",
       "    <tr>\n",
       "      <th>1</th>\n",
       "      <td>J0036-3333</td>\n",
       "      <td>-</td>\n",
       "      <td>-</td>\n",
       "      <td>-</td>\n",
       "      <td>-</td>\n",
       "      <td>7.47</td>\n",
       "      <td>0.06</td>\n",
       "    </tr>\n",
       "    <tr>\n",
       "      <th>2</th>\n",
       "      <td>J0127-0619</td>\n",
       "      <td>-</td>\n",
       "      <td>-</td>\n",
       "      <td>-</td>\n",
       "      <td>-</td>\n",
       "      <td>-</td>\n",
       "      <td>-</td>\n",
       "    </tr>\n",
       "    <tr>\n",
       "      <th>3</th>\n",
       "      <td>J0144+0453</td>\n",
       "      <td>-</td>\n",
       "      <td>-</td>\n",
       "      <td>-</td>\n",
       "      <td>-</td>\n",
       "      <td>-</td>\n",
       "      <td>-</td>\n",
       "    </tr>\n",
       "    <tr>\n",
       "      <th>4</th>\n",
       "      <td>J0337-0502</td>\n",
       "      <td>-</td>\n",
       "      <td>-</td>\n",
       "      <td>-</td>\n",
       "      <td>-</td>\n",
       "      <td>-</td>\n",
       "      <td>-</td>\n",
       "    </tr>\n",
       "  </tbody>\n",
       "</table>\n",
       "</div>"
      ],
      "text/plain": [
       "       Galaxy SDSS_density SDSS_12logOH OH_error (-) OH_error (+)  \\\n",
       "0  J0021+0052           90         8.28         0.06         0.06   \n",
       "1  J0036-3333            -            -            -            -   \n",
       "2  J0127-0619            -            -            -            -   \n",
       "3  J0144+0453            -            -            -            -   \n",
       "4  J0337-0502            -            -            -            -   \n",
       "\n",
       "  MUSE_12logOH CLOUDY metals and grains  \n",
       "0         8.14                     0.39  \n",
       "1         7.47                     0.06  \n",
       "2            -                        -  \n",
       "3            -                        -  \n",
       "4            -                        -  "
      ]
     },
     "execution_count": 48,
     "metadata": {},
     "output_type": "execute_result"
    }
   ],
   "source": [
    "metallicities = []\n",
    "\n",
    "for SDSS_logOH, MUSE_logOH in zip(galaxies['SDSS_12logOH'],\n",
    "                                  galaxies['MUSE_12logOH']):\n",
    "    if SDSS_logOH != '-':\n",
    "        metal_val = find_metals(SDSS_logOH)\n",
    "        metallicities.append(metal_val)\n",
    "    elif MUSE_logOH != '-':\n",
    "        metal_val = find_metals(MUSE_logOH)\n",
    "        metallicities.append(metal_val)\n",
    "    else:\n",
    "        metallicities.append('-')\n",
    "\n",
    "galaxies['CLOUDY metals and grains'] = metallicities\n",
    "\n",
    "# we can now see our updated dataframe with the metallicity values\n",
    "galaxies.head()"
   ]
  },
  {
   "cell_type": "markdown",
   "metadata": {},
   "source": [
    "# DETERMINING HYDROGEN LOG DENSITY FOR ALL GALAXIES"
   ]
  },
  {
   "cell_type": "code",
   "execution_count": 49,
   "metadata": {
    "scrolled": true
   },
   "outputs": [
    {
     "data": {
      "text/html": [
       "<div>\n",
       "<style scoped>\n",
       "    .dataframe tbody tr th:only-of-type {\n",
       "        vertical-align: middle;\n",
       "    }\n",
       "\n",
       "    .dataframe tbody tr th {\n",
       "        vertical-align: top;\n",
       "    }\n",
       "\n",
       "    .dataframe thead th {\n",
       "        text-align: right;\n",
       "    }\n",
       "</style>\n",
       "<table border=\"1\" class=\"dataframe\">\n",
       "  <thead>\n",
       "    <tr style=\"text-align: right;\">\n",
       "      <th></th>\n",
       "      <th>Galaxy</th>\n",
       "      <th>SDSS_density</th>\n",
       "      <th>SDSS_12logOH</th>\n",
       "      <th>OH_error (-)</th>\n",
       "      <th>OH_error (+)</th>\n",
       "      <th>MUSE_12logOH</th>\n",
       "      <th>CLOUDY metals and grains</th>\n",
       "      <th>log_density</th>\n",
       "    </tr>\n",
       "  </thead>\n",
       "  <tbody>\n",
       "    <tr>\n",
       "      <th>0</th>\n",
       "      <td>J0021+0052</td>\n",
       "      <td>90</td>\n",
       "      <td>8.28</td>\n",
       "      <td>0.06</td>\n",
       "      <td>0.06</td>\n",
       "      <td>8.14</td>\n",
       "      <td>0.39</td>\n",
       "      <td>1</td>\n",
       "    </tr>\n",
       "    <tr>\n",
       "      <th>1</th>\n",
       "      <td>J0036-3333</td>\n",
       "      <td>-</td>\n",
       "      <td>-</td>\n",
       "      <td>-</td>\n",
       "      <td>-</td>\n",
       "      <td>7.47</td>\n",
       "      <td>0.06</td>\n",
       "      <td>-</td>\n",
       "    </tr>\n",
       "    <tr>\n",
       "      <th>2</th>\n",
       "      <td>J0127-0619</td>\n",
       "      <td>-</td>\n",
       "      <td>-</td>\n",
       "      <td>-</td>\n",
       "      <td>-</td>\n",
       "      <td>-</td>\n",
       "      <td>-</td>\n",
       "      <td>-</td>\n",
       "    </tr>\n",
       "    <tr>\n",
       "      <th>3</th>\n",
       "      <td>J0144+0453</td>\n",
       "      <td>-</td>\n",
       "      <td>-</td>\n",
       "      <td>-</td>\n",
       "      <td>-</td>\n",
       "      <td>-</td>\n",
       "      <td>-</td>\n",
       "      <td>-</td>\n",
       "    </tr>\n",
       "    <tr>\n",
       "      <th>4</th>\n",
       "      <td>J0337-0502</td>\n",
       "      <td>-</td>\n",
       "      <td>-</td>\n",
       "      <td>-</td>\n",
       "      <td>-</td>\n",
       "      <td>-</td>\n",
       "      <td>-</td>\n",
       "      <td>-</td>\n",
       "    </tr>\n",
       "    <tr>\n",
       "      <th>5</th>\n",
       "      <td>J0405-3648</td>\n",
       "      <td>-</td>\n",
       "      <td>-</td>\n",
       "      <td>-</td>\n",
       "      <td>-</td>\n",
       "      <td>7.22</td>\n",
       "      <td>0.03</td>\n",
       "      <td>-</td>\n",
       "    </tr>\n",
       "    <tr>\n",
       "      <th>6</th>\n",
       "      <td>J0808+3948</td>\n",
       "      <td>1250</td>\n",
       "      <td>-</td>\n",
       "      <td>-</td>\n",
       "      <td>-</td>\n",
       "      <td>-</td>\n",
       "      <td>-</td>\n",
       "      <td>3</td>\n",
       "    </tr>\n",
       "    <tr>\n",
       "      <th>7</th>\n",
       "      <td>J0823+2806</td>\n",
       "      <td>150</td>\n",
       "      <td>8.33</td>\n",
       "      <td>0.05</td>\n",
       "      <td>0.05</td>\n",
       "      <td>-</td>\n",
       "      <td>0.44</td>\n",
       "      <td>2</td>\n",
       "    </tr>\n",
       "    <tr>\n",
       "      <th>8</th>\n",
       "      <td>J0926+4427</td>\n",
       "      <td>100</td>\n",
       "      <td>8.05</td>\n",
       "      <td>0.08</td>\n",
       "      <td>0.06</td>\n",
       "      <td>-</td>\n",
       "      <td>0.23</td>\n",
       "      <td>2</td>\n",
       "    </tr>\n",
       "    <tr>\n",
       "      <th>9</th>\n",
       "      <td>J0934+5514</td>\n",
       "      <td>-</td>\n",
       "      <td>-</td>\n",
       "      <td>-</td>\n",
       "      <td>-</td>\n",
       "      <td>-</td>\n",
       "      <td>-</td>\n",
       "      <td>-</td>\n",
       "    </tr>\n",
       "  </tbody>\n",
       "</table>\n",
       "</div>"
      ],
      "text/plain": [
       "       Galaxy SDSS_density SDSS_12logOH OH_error (-) OH_error (+)  \\\n",
       "0  J0021+0052           90         8.28         0.06         0.06   \n",
       "1  J0036-3333            -            -            -            -   \n",
       "2  J0127-0619            -            -            -            -   \n",
       "3  J0144+0453            -            -            -            -   \n",
       "4  J0337-0502            -            -            -            -   \n",
       "5  J0405-3648            -            -            -            -   \n",
       "6  J0808+3948         1250            -            -            -   \n",
       "7  J0823+2806          150         8.33         0.05         0.05   \n",
       "8  J0926+4427          100         8.05         0.08         0.06   \n",
       "9  J0934+5514            -            -            -            -   \n",
       "\n",
       "  MUSE_12logOH CLOUDY metals and grains log_density  \n",
       "0         8.14                     0.39           1  \n",
       "1         7.47                     0.06           -  \n",
       "2            -                        -           -  \n",
       "3            -                        -           -  \n",
       "4            -                        -           -  \n",
       "5         7.22                     0.03           -  \n",
       "6            -                        -           3  \n",
       "7            -                     0.44           2  \n",
       "8            -                     0.23           2  \n",
       "9            -                        -           -  "
      ]
     },
     "execution_count": 49,
     "metadata": {},
     "output_type": "execute_result"
    }
   ],
   "source": [
    "hdens = []\n",
    "\n",
    "for density in galaxies['SDSS_density']:\n",
    "    if (density != '-') and (density != '<100'):\n",
    "        d_string = str(density)\n",
    "        power = len(d_string) - 1\n",
    "        hdens.append(power)\n",
    "    elif density == '<100':\n",
    "        hdens.append(1)\n",
    "    else:\n",
    "        hdens.append('-')\n",
    "\n",
    "galaxies['log_density'] = hdens\n",
    "\n",
    "galaxies.head(10)"
   ]
  },
  {
   "cell_type": "markdown",
   "metadata": {},
   "source": [
    "# SCALING THE ABUNDANCES OF N, C, AND Si"
   ]
  },
  {
   "cell_type": "markdown",
   "metadata": {},
   "source": [
    "## Reading in Original Elemental Abundances"
   ]
  },
  {
   "cell_type": "code",
   "execution_count": 50,
   "metadata": {},
   "outputs": [
    {
     "data": {
      "text/html": [
       "<div>\n",
       "<style scoped>\n",
       "    .dataframe tbody tr th:only-of-type {\n",
       "        vertical-align: middle;\n",
       "    }\n",
       "\n",
       "    .dataframe tbody tr th {\n",
       "        vertical-align: top;\n",
       "    }\n",
       "\n",
       "    .dataframe thead th {\n",
       "        text-align: right;\n",
       "    }\n",
       "</style>\n",
       "<table border=\"1\" class=\"dataframe\">\n",
       "  <thead>\n",
       "    <tr style=\"text-align: right;\">\n",
       "      <th></th>\n",
       "      <th>Galaxy</th>\n",
       "      <th>ne_SDSS</th>\n",
       "      <th>OH_SDSS</th>\n",
       "      <th>NO_SDSS</th>\n",
       "      <th>ne_MUSE</th>\n",
       "      <th>OH_MUSE</th>\n",
       "      <th>NO_MUSE</th>\n",
       "      <th>CO_SDSS</th>\n",
       "      <th>CO_MUSE</th>\n",
       "      <th>Si_SDSS</th>\n",
       "      <th>Si_MUSE</th>\n",
       "      <th>N_err</th>\n",
       "      <th>C_err</th>\n",
       "      <th>Si_err</th>\n",
       "      <th>Log U</th>\n",
       "      <th>Log U err</th>\n",
       "    </tr>\n",
       "  </thead>\n",
       "  <tbody>\n",
       "    <tr>\n",
       "      <th>0</th>\n",
       "      <td>J0021+0052</td>\n",
       "      <td>90.0</td>\n",
       "      <td>8.28</td>\n",
       "      <td>-1.211556</td>\n",
       "      <td>120.0</td>\n",
       "      <td>8.14</td>\n",
       "      <td>-0.786478</td>\n",
       "      <td>0.0</td>\n",
       "      <td>0.0</td>\n",
       "      <td>0.0</td>\n",
       "      <td>0.0</td>\n",
       "      <td>0.1</td>\n",
       "      <td>0.1</td>\n",
       "      <td>0.1</td>\n",
       "      <td>-4</td>\n",
       "      <td>0.1</td>\n",
       "    </tr>\n",
       "    <tr>\n",
       "      <th>1</th>\n",
       "      <td>J0036-3333</td>\n",
       "      <td>0.0</td>\n",
       "      <td>0.00</td>\n",
       "      <td>0.000000</td>\n",
       "      <td>120.0</td>\n",
       "      <td>7.47</td>\n",
       "      <td>-1.557300</td>\n",
       "      <td>0.0</td>\n",
       "      <td>0.0</td>\n",
       "      <td>0.0</td>\n",
       "      <td>0.0</td>\n",
       "      <td>0.1</td>\n",
       "      <td>0.1</td>\n",
       "      <td>0.1</td>\n",
       "      <td>-4</td>\n",
       "      <td>0.1</td>\n",
       "    </tr>\n",
       "    <tr>\n",
       "      <th>2</th>\n",
       "      <td>J0127-0619</td>\n",
       "      <td>0.0</td>\n",
       "      <td>0.00</td>\n",
       "      <td>0.000000</td>\n",
       "      <td>0.0</td>\n",
       "      <td>0.00</td>\n",
       "      <td>0.000000</td>\n",
       "      <td>0.0</td>\n",
       "      <td>0.0</td>\n",
       "      <td>0.0</td>\n",
       "      <td>0.0</td>\n",
       "      <td>0.1</td>\n",
       "      <td>0.1</td>\n",
       "      <td>0.1</td>\n",
       "      <td>-4</td>\n",
       "      <td>0.1</td>\n",
       "    </tr>\n",
       "    <tr>\n",
       "      <th>3</th>\n",
       "      <td>J0144+0453</td>\n",
       "      <td>0.0</td>\n",
       "      <td>0.00</td>\n",
       "      <td>0.000000</td>\n",
       "      <td>0.0</td>\n",
       "      <td>0.00</td>\n",
       "      <td>0.000000</td>\n",
       "      <td>0.0</td>\n",
       "      <td>0.0</td>\n",
       "      <td>0.0</td>\n",
       "      <td>0.0</td>\n",
       "      <td>0.1</td>\n",
       "      <td>0.1</td>\n",
       "      <td>0.1</td>\n",
       "      <td>-4</td>\n",
       "      <td>0.1</td>\n",
       "    </tr>\n",
       "    <tr>\n",
       "      <th>4</th>\n",
       "      <td>J0337-0502</td>\n",
       "      <td>0.0</td>\n",
       "      <td>0.00</td>\n",
       "      <td>0.000000</td>\n",
       "      <td>0.0</td>\n",
       "      <td>0.00</td>\n",
       "      <td>0.000000</td>\n",
       "      <td>0.0</td>\n",
       "      <td>0.0</td>\n",
       "      <td>0.0</td>\n",
       "      <td>0.0</td>\n",
       "      <td>0.1</td>\n",
       "      <td>0.1</td>\n",
       "      <td>0.1</td>\n",
       "      <td>-4</td>\n",
       "      <td>0.1</td>\n",
       "    </tr>\n",
       "  </tbody>\n",
       "</table>\n",
       "</div>"
      ],
      "text/plain": [
       "       Galaxy  ne_SDSS  OH_SDSS   NO_SDSS  ne_MUSE  OH_MUSE   NO_MUSE  \\\n",
       "0  J0021+0052     90.0     8.28 -1.211556    120.0     8.14 -0.786478   \n",
       "1  J0036-3333      0.0     0.00  0.000000    120.0     7.47 -1.557300   \n",
       "2  J0127-0619      0.0     0.00  0.000000      0.0     0.00  0.000000   \n",
       "3  J0144+0453      0.0     0.00  0.000000      0.0     0.00  0.000000   \n",
       "4  J0337-0502      0.0     0.00  0.000000      0.0     0.00  0.000000   \n",
       "\n",
       "   CO_SDSS  CO_MUSE  Si_SDSS  Si_MUSE  N_err  C_err  Si_err  Log U  Log U err  \n",
       "0      0.0      0.0      0.0      0.0    0.1    0.1     0.1     -4        0.1  \n",
       "1      0.0      0.0      0.0      0.0    0.1    0.1     0.1     -4        0.1  \n",
       "2      0.0      0.0      0.0      0.0    0.1    0.1     0.1     -4        0.1  \n",
       "3      0.0      0.0      0.0      0.0    0.1    0.1     0.1     -4        0.1  \n",
       "4      0.0      0.0      0.0      0.0    0.1    0.1     0.1     -4        0.1  "
      ]
     },
     "execution_count": 50,
     "metadata": {},
     "output_type": "execute_result"
    }
   ],
   "source": [
    "ele_df = pd.read_csv('metalliciy-N_O_SDSS_MUSE.txt', delimiter=r\"\\s+\")\n",
    "\n",
    "# add in zero column for Carbon to handle currently missing data\n",
    "ele_df['CO_SDSS'] = 0.0\n",
    "ele_df['CO_MUSE'] = 0.0\n",
    "\n",
    "# add in zero column for Silicon to handle currently missing data\n",
    "ele_df['Si_SDSS'] = 0.0\n",
    "ele_df['Si_MUSE'] = 0.0\n",
    "\n",
    "# add in error columns of placeholder error value 0.1\n",
    "ele_df['N_err'] = 0.1\n",
    "ele_df['C_err'] = 0.1\n",
    "ele_df['Si_err'] = 0.1\n",
    "\n",
    "# add in ionization column and error columns with placeholder value of -4 and 0.1, respectively\n",
    "ele_df['Log U'] = -4\n",
    "ele_df['Log U err'] = 0.1\n",
    "\n",
    "ele_df.head()"
   ]
  },
  {
   "cell_type": "markdown",
   "metadata": {},
   "source": [
    "## Modifying J1044+0353 Parameters"
   ]
  },
  {
   "cell_type": "code",
   "execution_count": 51,
   "metadata": {},
   "outputs": [],
   "source": [
    "ele_df.iloc[18, 14] = -1.77 # ionization\n",
    "ele_df.iloc[18, 15] = 0.25  # ion error\n",
    "ele_df.iloc[18, 1] = 200.0  # density\n",
    "ele_df.iloc[18, 2] = 7.44   # OH log\n",
    "ele_df.iloc[18, 3] = -1.35  # NO log\n",
    "ele_df.iloc[18, 7] = -0.73  # CO log\n",
    "ele_df.iloc[18, 11] = 0.06  # NO error\n",
    "ele_df.iloc[18, 12] = 0.09  # CO error"
   ]
  },
  {
   "cell_type": "code",
   "execution_count": 52,
   "metadata": {},
   "outputs": [
    {
     "data": {
      "text/plain": [
       "Galaxy       J1044+0353\n",
       "ne_SDSS             200\n",
       "OH_SDSS            7.44\n",
       "NO_SDSS           -1.35\n",
       "ne_MUSE             160\n",
       "OH_MUSE            7.49\n",
       "NO_MUSE        -1.51771\n",
       "CO_SDSS           -0.73\n",
       "CO_MUSE               0\n",
       "Si_SDSS               0\n",
       "Si_MUSE               0\n",
       "N_err              0.06\n",
       "C_err              0.09\n",
       "Si_err              0.1\n",
       "Log U             -1.77\n",
       "Log U err          0.25\n",
       "Name: 18, dtype: object"
      ]
     },
     "execution_count": 52,
     "metadata": {},
     "output_type": "execute_result"
    }
   ],
   "source": [
    "ele_df.iloc[18]"
   ]
  },
  {
   "cell_type": "markdown",
   "metadata": {},
   "source": [
    "## Creating Nitrogen Scale Column"
   ]
  },
  {
   "cell_type": "code",
   "execution_count": 53,
   "metadata": {
    "scrolled": false
   },
   "outputs": [],
   "source": [
    "NO_scale_list = []\n",
    "\n",
    "for obj1, obj2 in zip(ele_df['NO_SDSS'], ele_df['NO_MUSE']):\n",
    "    if int(obj1) != 0:\n",
    "        NO_scale_list.append(N_scale(obj1))\n",
    "    elif int(obj2) != 0:\n",
    "        NO_scale_list.append(N_scale(obj2))\n",
    "    else:\n",
    "        NO_scale_list.append(1.00)\n",
    "\n",
    "galaxies['NO_scale'] = NO_scale_list"
   ]
  },
  {
   "cell_type": "markdown",
   "metadata": {},
   "source": [
    "## Creating Carbon Scale Column"
   ]
  },
  {
   "cell_type": "code",
   "execution_count": 54,
   "metadata": {},
   "outputs": [],
   "source": [
    "CO_scale_list = []\n",
    "\n",
    "for obj1, obj2 in zip(ele_df['CO_SDSS'], ele_df['CO_MUSE']):\n",
    "    if int(obj1) != 0:\n",
    "        CO_scale_list.append(C_scale(obj1))\n",
    "    elif int(obj2) != 0:\n",
    "        CO_scale_list.append(C_scale(obj2))\n",
    "    else:\n",
    "        CO_scale_list.append(1.00)\n",
    "\n",
    "galaxies['CO_scale'] = CO_scale_list"
   ]
  },
  {
   "cell_type": "markdown",
   "metadata": {},
   "source": [
    "## Creating Silicon Scale Column"
   ]
  },
  {
   "cell_type": "code",
   "execution_count": 55,
   "metadata": {},
   "outputs": [],
   "source": [
    "SiO_scale_list = []\n",
    "\n",
    "for obj1, obj2 in zip(ele_df['Si_SDSS'], ele_df['Si_MUSE']):\n",
    "    if int(obj1) != 0:\n",
    "        SiO_scale_list.append(Si_scale(obj1))\n",
    "    elif int(obj2) != 0:\n",
    "        SiO_scale_list.append(Si_scale(obj2))\n",
    "    else:\n",
    "        SiO_scale_list.append(1.00)\n",
    "\n",
    "galaxies['SiO_scale'] = SiO_scale_list"
   ]
  },
  {
   "cell_type": "markdown",
   "metadata": {},
   "source": [
    "## Creating an Ionization Column"
   ]
  },
  {
   "cell_type": "code",
   "execution_count": 56,
   "metadata": {},
   "outputs": [],
   "source": [
    "galaxies['Log U'] = ele_df['Log U']"
   ]
  },
  {
   "cell_type": "markdown",
   "metadata": {},
   "source": [
    "## Setting J1044+0052's Parameters"
   ]
  },
  {
   "cell_type": "code",
   "execution_count": 57,
   "metadata": {},
   "outputs": [],
   "source": [
    "galaxies.iloc[18,1] = 200 # density\n",
    "galaxies.iloc[18,7] = 2.0 # log density\n",
    "galaxies.iloc[18,2] = 7.44\n",
    "galaxies.iloc[18,3] = 0.1\n",
    "galaxies.iloc[18,4] = 0.1\n",
    "galaxies.iloc[18,6] = find_metals(7.44)\n",
    "galaxies.iloc[18,8] = N_scale(-1.35)\n",
    "galaxies.iloc[18,9] = C_scale(-0.73)"
   ]
  },
  {
   "cell_type": "markdown",
   "metadata": {},
   "source": [
    "## Updated Galaxies Table With Scale Factors"
   ]
  },
  {
   "cell_type": "code",
   "execution_count": 58,
   "metadata": {
    "scrolled": true
   },
   "outputs": [
    {
     "data": {
      "text/html": [
       "<div>\n",
       "<style scoped>\n",
       "    .dataframe tbody tr th:only-of-type {\n",
       "        vertical-align: middle;\n",
       "    }\n",
       "\n",
       "    .dataframe tbody tr th {\n",
       "        vertical-align: top;\n",
       "    }\n",
       "\n",
       "    .dataframe thead th {\n",
       "        text-align: right;\n",
       "    }\n",
       "</style>\n",
       "<table border=\"1\" class=\"dataframe\">\n",
       "  <thead>\n",
       "    <tr style=\"text-align: right;\">\n",
       "      <th></th>\n",
       "      <th>Galaxy</th>\n",
       "      <th>SDSS_density</th>\n",
       "      <th>SDSS_12logOH</th>\n",
       "      <th>OH_error (-)</th>\n",
       "      <th>OH_error (+)</th>\n",
       "      <th>MUSE_12logOH</th>\n",
       "      <th>CLOUDY metals and grains</th>\n",
       "      <th>log_density</th>\n",
       "      <th>NO_scale</th>\n",
       "      <th>CO_scale</th>\n",
       "      <th>SiO_scale</th>\n",
       "      <th>Log U</th>\n",
       "    </tr>\n",
       "  </thead>\n",
       "  <tbody>\n",
       "    <tr>\n",
       "      <th>0</th>\n",
       "      <td>J0021+0052</td>\n",
       "      <td>90</td>\n",
       "      <td>8.28</td>\n",
       "      <td>0.06</td>\n",
       "      <td>0.06</td>\n",
       "      <td>8.14</td>\n",
       "      <td>0.39</td>\n",
       "      <td>1</td>\n",
       "      <td>0.45</td>\n",
       "      <td>1.00</td>\n",
       "      <td>1.0</td>\n",
       "      <td>-4.00</td>\n",
       "    </tr>\n",
       "    <tr>\n",
       "      <th>1</th>\n",
       "      <td>J0036-3333</td>\n",
       "      <td>-</td>\n",
       "      <td>-</td>\n",
       "      <td>-</td>\n",
       "      <td>-</td>\n",
       "      <td>7.47</td>\n",
       "      <td>0.06</td>\n",
       "      <td>-</td>\n",
       "      <td>0.20</td>\n",
       "      <td>1.00</td>\n",
       "      <td>1.0</td>\n",
       "      <td>-4.00</td>\n",
       "    </tr>\n",
       "    <tr>\n",
       "      <th>2</th>\n",
       "      <td>J0127-0619</td>\n",
       "      <td>-</td>\n",
       "      <td>-</td>\n",
       "      <td>-</td>\n",
       "      <td>-</td>\n",
       "      <td>-</td>\n",
       "      <td>-</td>\n",
       "      <td>-</td>\n",
       "      <td>1.00</td>\n",
       "      <td>1.00</td>\n",
       "      <td>1.0</td>\n",
       "      <td>-4.00</td>\n",
       "    </tr>\n",
       "    <tr>\n",
       "      <th>3</th>\n",
       "      <td>J0144+0453</td>\n",
       "      <td>-</td>\n",
       "      <td>-</td>\n",
       "      <td>-</td>\n",
       "      <td>-</td>\n",
       "      <td>-</td>\n",
       "      <td>-</td>\n",
       "      <td>-</td>\n",
       "      <td>1.00</td>\n",
       "      <td>1.00</td>\n",
       "      <td>1.0</td>\n",
       "      <td>-4.00</td>\n",
       "    </tr>\n",
       "    <tr>\n",
       "      <th>4</th>\n",
       "      <td>J0337-0502</td>\n",
       "      <td>-</td>\n",
       "      <td>-</td>\n",
       "      <td>-</td>\n",
       "      <td>-</td>\n",
       "      <td>-</td>\n",
       "      <td>-</td>\n",
       "      <td>-</td>\n",
       "      <td>1.00</td>\n",
       "      <td>1.00</td>\n",
       "      <td>1.0</td>\n",
       "      <td>-4.00</td>\n",
       "    </tr>\n",
       "    <tr>\n",
       "      <th>5</th>\n",
       "      <td>J0405-3648</td>\n",
       "      <td>-</td>\n",
       "      <td>-</td>\n",
       "      <td>-</td>\n",
       "      <td>-</td>\n",
       "      <td>7.22</td>\n",
       "      <td>0.03</td>\n",
       "      <td>-</td>\n",
       "      <td>0.21</td>\n",
       "      <td>1.00</td>\n",
       "      <td>1.0</td>\n",
       "      <td>-4.00</td>\n",
       "    </tr>\n",
       "    <tr>\n",
       "      <th>6</th>\n",
       "      <td>J0808+3948</td>\n",
       "      <td>1250</td>\n",
       "      <td>-</td>\n",
       "      <td>-</td>\n",
       "      <td>-</td>\n",
       "      <td>-</td>\n",
       "      <td>-</td>\n",
       "      <td>3</td>\n",
       "      <td>1.00</td>\n",
       "      <td>1.00</td>\n",
       "      <td>1.0</td>\n",
       "      <td>-4.00</td>\n",
       "    </tr>\n",
       "    <tr>\n",
       "      <th>7</th>\n",
       "      <td>J0823+2806</td>\n",
       "      <td>150</td>\n",
       "      <td>8.33</td>\n",
       "      <td>0.05</td>\n",
       "      <td>0.05</td>\n",
       "      <td>-</td>\n",
       "      <td>0.44</td>\n",
       "      <td>2</td>\n",
       "      <td>0.59</td>\n",
       "      <td>1.00</td>\n",
       "      <td>1.0</td>\n",
       "      <td>-4.00</td>\n",
       "    </tr>\n",
       "    <tr>\n",
       "      <th>8</th>\n",
       "      <td>J0926+4427</td>\n",
       "      <td>100</td>\n",
       "      <td>8.05</td>\n",
       "      <td>0.08</td>\n",
       "      <td>0.06</td>\n",
       "      <td>-</td>\n",
       "      <td>0.23</td>\n",
       "      <td>2</td>\n",
       "      <td>0.38</td>\n",
       "      <td>1.00</td>\n",
       "      <td>1.0</td>\n",
       "      <td>-4.00</td>\n",
       "    </tr>\n",
       "    <tr>\n",
       "      <th>9</th>\n",
       "      <td>J0934+5514</td>\n",
       "      <td>-</td>\n",
       "      <td>-</td>\n",
       "      <td>-</td>\n",
       "      <td>-</td>\n",
       "      <td>-</td>\n",
       "      <td>-</td>\n",
       "      <td>-</td>\n",
       "      <td>1.00</td>\n",
       "      <td>1.00</td>\n",
       "      <td>1.0</td>\n",
       "      <td>-4.00</td>\n",
       "    </tr>\n",
       "    <tr>\n",
       "      <th>10</th>\n",
       "      <td>J0938+5428</td>\n",
       "      <td>80</td>\n",
       "      <td>8.33</td>\n",
       "      <td>0.06</td>\n",
       "      <td>0.06</td>\n",
       "      <td>-</td>\n",
       "      <td>0.44</td>\n",
       "      <td>1</td>\n",
       "      <td>0.40</td>\n",
       "      <td>1.00</td>\n",
       "      <td>1.0</td>\n",
       "      <td>-4.00</td>\n",
       "    </tr>\n",
       "    <tr>\n",
       "      <th>11</th>\n",
       "      <td>J0940+2935</td>\n",
       "      <td>&lt;100</td>\n",
       "      <td>7.82</td>\n",
       "      <td>0.23</td>\n",
       "      <td>0.15</td>\n",
       "      <td>-</td>\n",
       "      <td>0.13</td>\n",
       "      <td>1</td>\n",
       "      <td>0.16</td>\n",
       "      <td>1.00</td>\n",
       "      <td>1.0</td>\n",
       "      <td>-4.00</td>\n",
       "    </tr>\n",
       "    <tr>\n",
       "      <th>12</th>\n",
       "      <td>J0942+3547</td>\n",
       "      <td>50</td>\n",
       "      <td>8.05</td>\n",
       "      <td>0.04</td>\n",
       "      <td>0.04</td>\n",
       "      <td>-</td>\n",
       "      <td>0.23</td>\n",
       "      <td>1</td>\n",
       "      <td>0.42</td>\n",
       "      <td>1.00</td>\n",
       "      <td>1.0</td>\n",
       "      <td>-4.00</td>\n",
       "    </tr>\n",
       "    <tr>\n",
       "      <th>13</th>\n",
       "      <td>J0944-0038</td>\n",
       "      <td>120</td>\n",
       "      <td>7.79</td>\n",
       "      <td>0.02</td>\n",
       "      <td>0.02</td>\n",
       "      <td>-</td>\n",
       "      <td>0.13</td>\n",
       "      <td>2</td>\n",
       "      <td>0.23</td>\n",
       "      <td>1.00</td>\n",
       "      <td>1.0</td>\n",
       "      <td>-4.00</td>\n",
       "    </tr>\n",
       "    <tr>\n",
       "      <th>14</th>\n",
       "      <td>J0944+3442</td>\n",
       "      <td>100</td>\n",
       "      <td>7.64</td>\n",
       "      <td>-</td>\n",
       "      <td>-</td>\n",
       "      <td>-</td>\n",
       "      <td>0.09</td>\n",
       "      <td>2</td>\n",
       "      <td>1.00</td>\n",
       "      <td>1.00</td>\n",
       "      <td>1.0</td>\n",
       "      <td>-4.00</td>\n",
       "    </tr>\n",
       "    <tr>\n",
       "      <th>15</th>\n",
       "      <td>J1016+3754</td>\n",
       "      <td>80</td>\n",
       "      <td>7.55</td>\n",
       "      <td>0.02</td>\n",
       "      <td>0.01</td>\n",
       "      <td>-</td>\n",
       "      <td>0.07</td>\n",
       "      <td>1</td>\n",
       "      <td>0.31</td>\n",
       "      <td>1.00</td>\n",
       "      <td>1.0</td>\n",
       "      <td>-4.00</td>\n",
       "    </tr>\n",
       "    <tr>\n",
       "      <th>16</th>\n",
       "      <td>J1024+0524</td>\n",
       "      <td>70</td>\n",
       "      <td>7.92</td>\n",
       "      <td>0.02</td>\n",
       "      <td>0.02</td>\n",
       "      <td>-</td>\n",
       "      <td>0.17</td>\n",
       "      <td>1</td>\n",
       "      <td>0.28</td>\n",
       "      <td>1.00</td>\n",
       "      <td>1.0</td>\n",
       "      <td>-4.00</td>\n",
       "    </tr>\n",
       "    <tr>\n",
       "      <th>17</th>\n",
       "      <td>J1025+3622</td>\n",
       "      <td>120</td>\n",
       "      <td>8.19</td>\n",
       "      <td>0.08</td>\n",
       "      <td>0.04</td>\n",
       "      <td>-</td>\n",
       "      <td>0.32</td>\n",
       "      <td>2</td>\n",
       "      <td>0.38</td>\n",
       "      <td>1.00</td>\n",
       "      <td>1.0</td>\n",
       "      <td>-4.00</td>\n",
       "    </tr>\n",
       "    <tr>\n",
       "      <th>18</th>\n",
       "      <td>J1044+0353</td>\n",
       "      <td>200</td>\n",
       "      <td>7.44</td>\n",
       "      <td>0.1</td>\n",
       "      <td>0.1</td>\n",
       "      <td>7.49</td>\n",
       "      <td>0.06</td>\n",
       "      <td>2</td>\n",
       "      <td>0.32</td>\n",
       "      <td>0.34</td>\n",
       "      <td>1.0</td>\n",
       "      <td>-1.77</td>\n",
       "    </tr>\n",
       "  </tbody>\n",
       "</table>\n",
       "</div>"
      ],
      "text/plain": [
       "        Galaxy SDSS_density SDSS_12logOH OH_error (-) OH_error (+)  \\\n",
       "0   J0021+0052           90         8.28         0.06         0.06   \n",
       "1   J0036-3333            -            -            -            -   \n",
       "2   J0127-0619            -            -            -            -   \n",
       "3   J0144+0453            -            -            -            -   \n",
       "4   J0337-0502            -            -            -            -   \n",
       "5   J0405-3648            -            -            -            -   \n",
       "6   J0808+3948         1250            -            -            -   \n",
       "7   J0823+2806          150         8.33         0.05         0.05   \n",
       "8   J0926+4427          100         8.05         0.08         0.06   \n",
       "9   J0934+5514            -            -            -            -   \n",
       "10  J0938+5428           80         8.33         0.06         0.06   \n",
       "11  J0940+2935         <100         7.82         0.23         0.15   \n",
       "12  J0942+3547           50         8.05         0.04         0.04   \n",
       "13  J0944-0038          120         7.79         0.02         0.02   \n",
       "14  J0944+3442          100         7.64            -            -   \n",
       "15  J1016+3754           80         7.55         0.02         0.01   \n",
       "16  J1024+0524           70         7.92         0.02         0.02   \n",
       "17  J1025+3622          120         8.19         0.08         0.04   \n",
       "18  J1044+0353          200         7.44          0.1          0.1   \n",
       "\n",
       "   MUSE_12logOH CLOUDY metals and grains log_density  NO_scale  CO_scale  \\\n",
       "0          8.14                     0.39           1      0.45      1.00   \n",
       "1          7.47                     0.06           -      0.20      1.00   \n",
       "2             -                        -           -      1.00      1.00   \n",
       "3             -                        -           -      1.00      1.00   \n",
       "4             -                        -           -      1.00      1.00   \n",
       "5          7.22                     0.03           -      0.21      1.00   \n",
       "6             -                        -           3      1.00      1.00   \n",
       "7             -                     0.44           2      0.59      1.00   \n",
       "8             -                     0.23           2      0.38      1.00   \n",
       "9             -                        -           -      1.00      1.00   \n",
       "10            -                     0.44           1      0.40      1.00   \n",
       "11            -                     0.13           1      0.16      1.00   \n",
       "12            -                     0.23           1      0.42      1.00   \n",
       "13            -                     0.13           2      0.23      1.00   \n",
       "14            -                     0.09           2      1.00      1.00   \n",
       "15            -                     0.07           1      0.31      1.00   \n",
       "16            -                     0.17           1      0.28      1.00   \n",
       "17            -                     0.32           2      0.38      1.00   \n",
       "18         7.49                     0.06           2      0.32      0.34   \n",
       "\n",
       "    SiO_scale  Log U  \n",
       "0         1.0  -4.00  \n",
       "1         1.0  -4.00  \n",
       "2         1.0  -4.00  \n",
       "3         1.0  -4.00  \n",
       "4         1.0  -4.00  \n",
       "5         1.0  -4.00  \n",
       "6         1.0  -4.00  \n",
       "7         1.0  -4.00  \n",
       "8         1.0  -4.00  \n",
       "9         1.0  -4.00  \n",
       "10        1.0  -4.00  \n",
       "11        1.0  -4.00  \n",
       "12        1.0  -4.00  \n",
       "13        1.0  -4.00  \n",
       "14        1.0  -4.00  \n",
       "15        1.0  -4.00  \n",
       "16        1.0  -4.00  \n",
       "17        1.0  -4.00  \n",
       "18        1.0  -1.77  "
      ]
     },
     "execution_count": 58,
     "metadata": {},
     "output_type": "execute_result"
    }
   ],
   "source": [
    "galaxies.head(19)"
   ]
  },
  {
   "cell_type": "markdown",
   "metadata": {},
   "source": [
    "# CREATING THE FINAL TABLE OF PARAMETERS"
   ]
  },
  {
   "cell_type": "markdown",
   "metadata": {},
   "source": [
    "## Building the List of Galaxies and Their Indices"
   ]
  },
  {
   "cell_type": "code",
   "execution_count": 59,
   "metadata": {},
   "outputs": [],
   "source": [
    "# creating a list of galaxy names\n",
    "gal_grid_list = []\n",
    "\n",
    "# creating a list of the indices\n",
    "param_index = []\n",
    "\n",
    "# number of original galaxies (45)\n",
    "num_galaxies = len(galaxies)\n",
    "\n",
    "# number of grids per parameter\n",
    "n = 7\n",
    "\n",
    "# empty lists of parameters to match indices\n",
    "imet = []\n",
    "iLu = []\n",
    "idens = []\n",
    "iNit = []\n",
    "iCarb = []\n",
    "iSic = []\n",
    "\n",
    "# LOOP THROUGH EACH GALAXY:\n",
    "for i in range(num_galaxies):\n",
    "\n",
    "    # LOOP THROUGH METALLICITY:\n",
    "    for x_1 in range(1, n + 1):\n",
    "\n",
    "        # LOOP THROUGH LOG U:\n",
    "        for x_2 in range(1, n + 1):\n",
    "\n",
    "            # LOOP THROUGH DENSITY:\n",
    "            for x_3 in range(1, n + 1):\n",
    "\n",
    "                # LOOP THROUGH CNSi:\n",
    "                for x_4 in range(1, n + 1):\n",
    "\n",
    "                    ##### DEFINE THE METALLICITY SOLAR SCALE\n",
    "                    if (galaxies.iloc[i, 2] != '-') and (galaxies.iloc[i, 4] !=\n",
    "                                                         '-'):\n",
    "                        # define the original OH value and error value\n",
    "                        og_OHval = galaxies.iloc[i, 2]\n",
    "                        err_OHval = galaxies.iloc[i, 4]\n",
    "\n",
    "                        begin_logval = og_OHval - (3 * err_OHval)\n",
    "                        final_val = find_metals(begin_logval + err_OHval *\n",
    "                                                (x_1 - 1))\n",
    "                        imet.append(final_val)\n",
    "                    # if OH abundance ratio is null (make sure this doesn't mess up index)\n",
    "                    else:\n",
    "                        imet.append(1.0)\n",
    "\n",
    "                    ##### DEFINE THE LOG_U PARAMETER STARRRR\n",
    "                    if (galaxies.iloc[i,11]):\n",
    "                        iLu.append(galaxies.iloc[i,11])\n",
    "                    else:\n",
    "                        iLu.append(-4)\n",
    "\n",
    "                    ##### DEFINE THE DENSITY PARAMETER\n",
    "                    if (galaxies.iloc[i,7] != '-'):\n",
    "                        idens.append(galaxies.iloc[i,7])\n",
    "                    else:\n",
    "                        idens.append(2.0)\n",
    "\n",
    "                    ##### DEFINE ELEMENTAL SCALES\n",
    "                    ### NITROGEN\n",
    "                    if (galaxies.iloc[i, 8] != 1.00):\n",
    "                        # setting the error value\n",
    "                        err1_NOval = ele_df.iloc[i, 11]\n",
    "\n",
    "                        # if-else to set the original NO value\n",
    "                        if (int(ele_df.iloc[i, 3]) != 0):\n",
    "                            # NO SDSS\n",
    "                            og1_NOval = ele_df.iloc[i, 3]\n",
    "                        else:\n",
    "                            # NO MUSE\n",
    "                            og1_NOval = ele_df.iloc[i, 6]\n",
    "\n",
    "                        begin1_NOval = og1_NOval - (3 * err1_NOval)\n",
    "                        final1_NOval = N_scale(begin1_NOval + err1_NOval *\n",
    "                                               (x_4 - 1))\n",
    "                        iNit.append(final1_NOval)\n",
    "\n",
    "                    # checking that C isn't null so that we can scale N with C\n",
    "                    elif (galaxies.iloc[i, 9] != 1.00):\n",
    "                        # setting the error value\n",
    "                        err1_COval = ele_df.iloc[i, 12]\n",
    "\n",
    "                        # if-else to set the original NO value\n",
    "                        if (int(ele_df.iloc[i, 7]) != 0):\n",
    "                            # CO SDSS\n",
    "                            og1_COval = ele_df.iloc[i, 7]\n",
    "                        else:\n",
    "                            # CO MUSE\n",
    "                            og1_COval = ele_df.iloc[i, 8]\n",
    "\n",
    "                        begin1_COval = og1_COval - (3 * err1_COval)\n",
    "                        final1_COval = C_scale(begin1_COval + err1_COval *\n",
    "                                               (x_4 - 1))\n",
    "                        iNit.append(final1_COval)\n",
    "\n",
    "                    # appending zero if both Nitrogen and Carbon are null\n",
    "                    else:\n",
    "                        iNit.append(1.0)\n",
    "\n",
    "                    ### CARBON\n",
    "                    if (galaxies.iloc[i, 9] != 1.00):\n",
    "                        # setting the error value\n",
    "                        err2_COval = ele_df.iloc[i, 12]\n",
    "\n",
    "                        # if-else to set the original NO value\n",
    "                        if (int(ele_df.iloc[i, 7]) != 0):\n",
    "                            # CO SDSS\n",
    "                            og2_COval = ele_df.iloc[i, 7]\n",
    "                        else:\n",
    "                            # CO MUSE\n",
    "                            og2_COval = ele_df.iloc[i, 8]\n",
    "\n",
    "                        begin2_COval = og2_COval - (3 * err2_COval)\n",
    "                        final2_COval = C_scale(begin2_COval + err2_COval *\n",
    "                                               (x_4 - 1))\n",
    "                        iCarb.append(final2_COval)\n",
    "\n",
    "                    # if N is not null, scale C with N\n",
    "                    elif (galaxies.iloc[i, 8] != 1.00):\n",
    "                        # setting the error value\n",
    "                        err2_NOval = ele_df.iloc[i, 11]\n",
    "\n",
    "                        # if-else to set the original NO value\n",
    "                        if (int(ele_df.iloc[i, 3]) != 0):\n",
    "                            # NO SDSS\n",
    "                            og2_NOval = ele_df.iloc[i, 3]\n",
    "                        else:\n",
    "                            # NO MUSE\n",
    "                            og2_NOval = ele_df.iloc[i, 6]\n",
    "\n",
    "                        begin2_NOval = og2_NOval - (3 * err2_NOval)\n",
    "                        final2_NOval = N_scale(begin2_NOval + err2_NOval *\n",
    "                                               (x_4 - 1))\n",
    "                        iCarb.append(final2_NOval)\n",
    "\n",
    "                    # append zero if both Carbon and Nitrogen are null\n",
    "                    else:\n",
    "                        iCarb.append(1.00)\n",
    "\n",
    "                    ### SILICON\n",
    "                    if (galaxies.iloc[i, 10] != 1.00):\n",
    "                        # setting the error value\n",
    "                        err_SiOval = ele_df.iloc[i, 13]\n",
    "\n",
    "                        # if-else to set the original SiO value\n",
    "                        if (int(ele_df.iloc[i, 9]) != 0):\n",
    "                            # SiO SDSS\n",
    "                            og_SiOval = ele_df.iloc[i, 9]\n",
    "                        else:\n",
    "                            # SiO MUSE\n",
    "                            og_SiOval = ele_df.iloc[i, 10]\n",
    "\n",
    "                        begin_SiOval = og_SiOval - (3 * err_SiOval)\n",
    "                        final_SiOval = Si_scale(begin_SiOval + err_SiOval *\n",
    "                                                (x_4 - 1))\n",
    "                        iSic.append(final_SiOval)\n",
    "\n",
    "                    # append one if Silicon is null\n",
    "                    else:\n",
    "                        iSic.append(1.00)\n",
    "\n",
    "                    # define the galaxies column\n",
    "                    gal_grid_list.append(galaxies.iloc[i, 0])\n",
    "\n",
    "                    # define the index\n",
    "                    param_index.append(\n",
    "                        int(str(x_1) + str(x_2) + str(x_3) + str(x_4)))\n",
    "\n",
    "# add all the lists to a table\n",
    "param_df = pd.DataFrame()\n",
    "\n",
    "param_df['Index'] = param_index\n",
    "param_df['Galaxy'] = gal_grid_list\n",
    "param_df['Metallicity'] = imet\n",
    "param_df['LogU'] = iLu\n",
    "param_df['H Dens'] = idens\n",
    "param_df['N Scale'] = iNit\n",
    "param_df['C Scale'] = iCarb\n",
    "param_df['Si Scale'] = iSic"
   ]
  },
  {
   "cell_type": "markdown",
   "metadata": {},
   "source": [
    "## Understanding Our Parameter DataFrame"
   ]
  },
  {
   "cell_type": "code",
   "execution_count": 60,
   "metadata": {},
   "outputs": [
    {
     "data": {
      "text/html": [
       "<div>\n",
       "<style scoped>\n",
       "    .dataframe tbody tr th:only-of-type {\n",
       "        vertical-align: middle;\n",
       "    }\n",
       "\n",
       "    .dataframe tbody tr th {\n",
       "        vertical-align: top;\n",
       "    }\n",
       "\n",
       "    .dataframe thead th {\n",
       "        text-align: right;\n",
       "    }\n",
       "</style>\n",
       "<table border=\"1\" class=\"dataframe\">\n",
       "  <thead>\n",
       "    <tr style=\"text-align: right;\">\n",
       "      <th></th>\n",
       "      <th>Index</th>\n",
       "      <th>Galaxy</th>\n",
       "      <th>Metallicity</th>\n",
       "      <th>LogU</th>\n",
       "      <th>H Dens</th>\n",
       "      <th>N Scale</th>\n",
       "      <th>C Scale</th>\n",
       "      <th>Si Scale</th>\n",
       "    </tr>\n",
       "  </thead>\n",
       "  <tbody>\n",
       "    <tr>\n",
       "      <th>0</th>\n",
       "      <td>1111</td>\n",
       "      <td>J0021+0052</td>\n",
       "      <td>0.26</td>\n",
       "      <td>-4.0</td>\n",
       "      <td>1.0</td>\n",
       "      <td>0.22</td>\n",
       "      <td>0.22</td>\n",
       "      <td>1.0</td>\n",
       "    </tr>\n",
       "    <tr>\n",
       "      <th>1</th>\n",
       "      <td>1112</td>\n",
       "      <td>J0021+0052</td>\n",
       "      <td>0.26</td>\n",
       "      <td>-4.0</td>\n",
       "      <td>1.0</td>\n",
       "      <td>0.28</td>\n",
       "      <td>0.28</td>\n",
       "      <td>1.0</td>\n",
       "    </tr>\n",
       "    <tr>\n",
       "      <th>2</th>\n",
       "      <td>1113</td>\n",
       "      <td>J0021+0052</td>\n",
       "      <td>0.26</td>\n",
       "      <td>-4.0</td>\n",
       "      <td>1.0</td>\n",
       "      <td>0.35</td>\n",
       "      <td>0.35</td>\n",
       "      <td>1.0</td>\n",
       "    </tr>\n",
       "    <tr>\n",
       "      <th>3</th>\n",
       "      <td>1114</td>\n",
       "      <td>J0021+0052</td>\n",
       "      <td>0.26</td>\n",
       "      <td>-4.0</td>\n",
       "      <td>1.0</td>\n",
       "      <td>0.45</td>\n",
       "      <td>0.45</td>\n",
       "      <td>1.0</td>\n",
       "    </tr>\n",
       "    <tr>\n",
       "      <th>4</th>\n",
       "      <td>1115</td>\n",
       "      <td>J0021+0052</td>\n",
       "      <td>0.26</td>\n",
       "      <td>-4.0</td>\n",
       "      <td>1.0</td>\n",
       "      <td>0.56</td>\n",
       "      <td>0.56</td>\n",
       "      <td>1.0</td>\n",
       "    </tr>\n",
       "  </tbody>\n",
       "</table>\n",
       "</div>"
      ],
      "text/plain": [
       "   Index      Galaxy  Metallicity  LogU  H Dens  N Scale  C Scale  Si Scale\n",
       "0   1111  J0021+0052         0.26  -4.0     1.0     0.22     0.22       1.0\n",
       "1   1112  J0021+0052         0.26  -4.0     1.0     0.28     0.28       1.0\n",
       "2   1113  J0021+0052         0.26  -4.0     1.0     0.35     0.35       1.0\n",
       "3   1114  J0021+0052         0.26  -4.0     1.0     0.45     0.45       1.0\n",
       "4   1115  J0021+0052         0.26  -4.0     1.0     0.56     0.56       1.0"
      ]
     },
     "execution_count": 60,
     "metadata": {},
     "output_type": "execute_result"
    }
   ],
   "source": [
    "param_df.head()"
   ]
  },
  {
   "cell_type": "markdown",
   "metadata": {},
   "source": [
    "So given the way the loop is set up, we step through our grid initally from the last parameters, namely the elemental scales. We can see from the few values displayed above that this galaxy, J0021+0052, had a null value for either it's NO abundance or CO abundance but has the other value. Therefore, we scaled the missing value with the non-missing one and should expect that every iteration of this galaxy have equal scale factors for N and C."
   ]
  },
  {
   "cell_type": "code",
   "execution_count": 61,
   "metadata": {},
   "outputs": [
    {
     "name": "stdout",
     "output_type": "stream",
     "text": [
      "Number of total galaxies (input files): 108045\n"
     ]
    }
   ],
   "source": [
    "print('Number of total galaxies (input files):', len(param_df))"
   ]
  },
  {
   "cell_type": "code",
   "execution_count": 62,
   "metadata": {
    "scrolled": true
   },
   "outputs": [
    {
     "name": "stdout",
     "output_type": "stream",
     "text": [
      "Number of variations per galaxy (including original): 2401\n"
     ]
    }
   ],
   "source": [
    "print('Number of variations per galaxy (including original):', int(len(param_df) / 45))"
   ]
  },
  {
   "cell_type": "markdown",
   "metadata": {},
   "source": [
    "## Checking that the Values Match the Indices"
   ]
  },
  {
   "cell_type": "markdown",
   "metadata": {},
   "source": [
    "check by cross-referencing the values of parameters with the same single-value index but different across the general index"
   ]
  },
  {
   "cell_type": "raw",
   "metadata": {},
   "source": [
    "iterate through 3 galaxies:\n",
    "    iterate through variations:\n",
    "        if param (for all params):\n",
    "            append to param list\n",
    "            \n",
    "iterate through list (for all lists):\n",
    "    if value doesn't match previous:\n",
    "        apppend to error list\n",
    "        \n",
    "print name and counts of errors in the lists   "
   ]
  },
  {
   "cell_type": "code",
   "execution_count": 63,
   "metadata": {},
   "outputs": [
    {
     "name": "stdout",
     "output_type": "stream",
     "text": [
      "The number of errrors in our elemental scale factor parameter: 0\n"
     ]
    }
   ],
   "source": [
    "# defining our galaxy as a sub-dataframe\n",
    "first_index = 0\n",
    "last_index = 2401\n",
    "\n",
    "temp_galaxy = param_df.iloc[first_index:last_index]\n",
    "\n",
    "# creating a list of values for a specified parameter in a specified galaxy\n",
    "vals = []\n",
    "\n",
    "for i in range(len(temp_galaxy)):\n",
    "    temp_index_list = [char for char in str(temp_galaxy.iloc[i, 0])]\n",
    "\n",
    "    if (temp_index_list[3] == '1'):\n",
    "        vals.append(temp_galaxy.iloc[i, 5])\n",
    "\n",
    "# error counter as we iterate through our list of values\n",
    "error = 0\n",
    "\n",
    "for j in range(len(vals)):\n",
    "    if vals[j] != vals[j - 1]:\n",
    "        error += 1\n",
    "\n",
    "print(\"The number of errrors in our elemental scale factor parameter:\", error)"
   ]
  },
  {
   "cell_type": "markdown",
   "metadata": {},
   "source": [
    "Could also try using data.loc 'where' method to access all iterations where the galaxy and the and the parameter variation are the same. Make this a list, then analyze the list to see if there are any differing values, which we can classify as errors. The expectation is that there either exist some n number of errors or zero errors. Given n, we can use this to deduce where the errors are being raised in the index, since we have a set of loops with differing ranges that are related to our value n."
   ]
  },
  {
   "cell_type": "markdown",
   "metadata": {},
   "source": [
    "## Creating a Dictionary to More Easily Access Individual Galaxies"
   ]
  },
  {
   "cell_type": "code",
   "execution_count": 64,
   "metadata": {},
   "outputs": [
    {
     "name": "stdout",
     "output_type": "stream",
     "text": [
      "J0021+0052  :        Index      Galaxy  Metallicity  LogU  H Dens  N Scale  C Scale  Si Scale\n",
      "0      1111  J0021+0052         0.26  -4.0     1.0     0.22     0.22       1.0\n",
      "1      1112  J0021+0052         0.26  -4.0     1.0     0.28     0.28       1.0\n",
      "2      1113  J0021+0052         0.26  -4.0     1.0     0.35     0.35       1.0\n",
      "3      1114  J0021+0052         0.26  -4.0     1.0     0.45     0.45       1.0\n",
      "4      1115  J0021+0052         0.26  -4.0     1.0     0.56     0.56       1.0\n",
      "...     ...         ...          ...   ...     ...      ...      ...       ...\n",
      "2396   7773  J0021+0052         0.59  -4.0     1.0     0.35     0.35       1.0\n",
      "2397   7774  J0021+0052         0.59  -4.0     1.0     0.45     0.45       1.0\n",
      "2398   7775  J0021+0052         0.59  -4.0     1.0     0.56     0.56       1.0\n",
      "2399   7776  J0021+0052         0.59  -4.0     1.0     0.71     0.71       1.0\n",
      "2400   7777  J0021+0052         0.59  -4.0     1.0     0.89     0.89       1.0\n",
      "\n",
      "[2401 rows x 8 columns]\n",
      "J0036-3333  :        Index      Galaxy  Metallicity  LogU  H Dens  N Scale  C Scale  Si Scale\n",
      "0      1111  J0036-3333          1.0  -4.0     2.0     0.10     0.10       1.0\n",
      "1      1112  J0036-3333          1.0  -4.0     2.0     0.13     0.13       1.0\n",
      "2      1113  J0036-3333          1.0  -4.0     2.0     0.16     0.16       1.0\n",
      "3      1114  J0036-3333          1.0  -4.0     2.0     0.20     0.20       1.0\n",
      "4      1115  J0036-3333          1.0  -4.0     2.0     0.25     0.25       1.0\n",
      "...     ...         ...          ...   ...     ...      ...      ...       ...\n",
      "2396   7773  J0036-3333          1.0  -4.0     2.0     0.16     0.16       1.0\n",
      "2397   7774  J0036-3333          1.0  -4.0     2.0     0.20     0.20       1.0\n",
      "2398   7775  J0036-3333          1.0  -4.0     2.0     0.25     0.25       1.0\n",
      "2399   7776  J0036-3333          1.0  -4.0     2.0     0.32     0.32       1.0\n",
      "2400   7777  J0036-3333          1.0  -4.0     2.0     0.40     0.40       1.0\n",
      "\n",
      "[2401 rows x 8 columns]\n",
      "J0127-0619  :        Index      Galaxy  Metallicity  LogU  H Dens  N Scale  C Scale  Si Scale\n",
      "0      1111  J0127-0619          1.0  -4.0     2.0      1.0      1.0       1.0\n",
      "1      1112  J0127-0619          1.0  -4.0     2.0      1.0      1.0       1.0\n",
      "2      1113  J0127-0619          1.0  -4.0     2.0      1.0      1.0       1.0\n",
      "3      1114  J0127-0619          1.0  -4.0     2.0      1.0      1.0       1.0\n",
      "4      1115  J0127-0619          1.0  -4.0     2.0      1.0      1.0       1.0\n",
      "...     ...         ...          ...   ...     ...      ...      ...       ...\n",
      "2396   7773  J0127-0619          1.0  -4.0     2.0      1.0      1.0       1.0\n",
      "2397   7774  J0127-0619          1.0  -4.0     2.0      1.0      1.0       1.0\n",
      "2398   7775  J0127-0619          1.0  -4.0     2.0      1.0      1.0       1.0\n",
      "2399   7776  J0127-0619          1.0  -4.0     2.0      1.0      1.0       1.0\n",
      "2400   7777  J0127-0619          1.0  -4.0     2.0      1.0      1.0       1.0\n",
      "\n",
      "[2401 rows x 8 columns]\n",
      "J0144+0453  :        Index      Galaxy  Metallicity  LogU  H Dens  N Scale  C Scale  Si Scale\n",
      "0      1111  J0144+0453          1.0  -4.0     2.0      1.0      1.0       1.0\n",
      "1      1112  J0144+0453          1.0  -4.0     2.0      1.0      1.0       1.0\n",
      "2      1113  J0144+0453          1.0  -4.0     2.0      1.0      1.0       1.0\n",
      "3      1114  J0144+0453          1.0  -4.0     2.0      1.0      1.0       1.0\n",
      "4      1115  J0144+0453          1.0  -4.0     2.0      1.0      1.0       1.0\n",
      "...     ...         ...          ...   ...     ...      ...      ...       ...\n",
      "2396   7773  J0144+0453          1.0  -4.0     2.0      1.0      1.0       1.0\n",
      "2397   7774  J0144+0453          1.0  -4.0     2.0      1.0      1.0       1.0\n",
      "2398   7775  J0144+0453          1.0  -4.0     2.0      1.0      1.0       1.0\n",
      "2399   7776  J0144+0453          1.0  -4.0     2.0      1.0      1.0       1.0\n",
      "2400   7777  J0144+0453          1.0  -4.0     2.0      1.0      1.0       1.0\n",
      "\n",
      "[2401 rows x 8 columns]\n",
      "J0337-0502  :        Index      Galaxy  Metallicity  LogU  H Dens  N Scale  C Scale  Si Scale\n",
      "0      1111  J0337-0502          1.0  -4.0     2.0      1.0      1.0       1.0\n",
      "1      1112  J0337-0502          1.0  -4.0     2.0      1.0      1.0       1.0\n",
      "2      1113  J0337-0502          1.0  -4.0     2.0      1.0      1.0       1.0\n",
      "3      1114  J0337-0502          1.0  -4.0     2.0      1.0      1.0       1.0\n",
      "4      1115  J0337-0502          1.0  -4.0     2.0      1.0      1.0       1.0\n",
      "...     ...         ...          ...   ...     ...      ...      ...       ...\n",
      "2396   7773  J0337-0502          1.0  -4.0     2.0      1.0      1.0       1.0\n",
      "2397   7774  J0337-0502          1.0  -4.0     2.0      1.0      1.0       1.0\n",
      "2398   7775  J0337-0502          1.0  -4.0     2.0      1.0      1.0       1.0\n",
      "2399   7776  J0337-0502          1.0  -4.0     2.0      1.0      1.0       1.0\n",
      "2400   7777  J0337-0502          1.0  -4.0     2.0      1.0      1.0       1.0\n",
      "\n",
      "[2401 rows x 8 columns]\n"
     ]
    }
   ],
   "source": [
    "# initialize an empty dictionary\n",
    "pf_collection = {}\n",
    "\n",
    "# iterate through original 45 galaxies\n",
    "for gal in range(45):\n",
    "    first_index = 2401 * gal\n",
    "    last_index = 2401 * (gal + 1)\n",
    "    temp_df = param_df.iloc[first_index:last_index]\n",
    "    \n",
    "    # reset the index key for each galaxy\n",
    "    res_df = temp_df.reset_index(drop=True)\n",
    "    \n",
    "    # our key is the name of the galaxy\n",
    "    key = str(galaxies.iloc[gal, 0])\n",
    "\n",
    "    pf_collection[key] = res_df\n",
    "\n",
    "# display our new dictionary\n",
    "counter = 0\n",
    "\n",
    "for key, value in pf_collection.items():\n",
    "    if (counter < 5):\n",
    "        print(key, ' : ', value)\n",
    "        counter += 1"
   ]
  },
  {
   "cell_type": "markdown",
   "metadata": {},
   "source": [
    "## A Guide to the Galaxy Index"
   ]
  },
  {
   "cell_type": "markdown",
   "metadata": {},
   "source": [
    "In case the index is not clear, there are four numbers in the index with each number being associated with a different parameter that contains a grid: "
   ]
  },
  {
   "cell_type": "markdown",
   "metadata": {},
   "source": [
    "1st integer ----> <span class=\"mark\">Metallicity</span>"
   ]
  },
  {
   "cell_type": "markdown",
   "metadata": {},
   "source": [
    "2nd integer ----> <span class=\"mark\">Nitrogen (N) scale factor</span>"
   ]
  },
  {
   "cell_type": "markdown",
   "metadata": {},
   "source": [
    "3rd integer ----> <span class=\"mark\">Carbon (C) scale factor</span>"
   ]
  },
  {
   "cell_type": "markdown",
   "metadata": {},
   "source": [
    "4th integer ----> <span class=\"mark\">Silicon (Si) scale factor</span>"
   ]
  },
  {
   "cell_type": "markdown",
   "metadata": {},
   "source": [
    "Each integer ranges from 1-7 because we are taking the uncertainty of the previosuly found values for the original galaxies, and we are multiplying this uncertainty by 3 in both the (+) and (-) direction."
   ]
  },
  {
   "cell_type": "markdown",
   "metadata": {},
   "source": [
    "Therefore, a value of 6.4 with +/- uncertainty of 0.2 will give us a range of (5.8,7.0) with a step factor of 0.2. Thus, we will have galaxies with values for  [5.8, 6.0, 6.2, 6.4, 6.6, 6.8, 7.0] with the corresponding index  [1, 2, 3, 4, 5, 6, 7]"
   ]
  },
  {
   "cell_type": "markdown",
   "metadata": {},
   "source": [
    "Given this, we can note that the original value for a galaxy will be marked with the index 4 for that parameter and the galaxy with all the original parameter values is that with index 4444."
   ]
  },
  {
   "cell_type": "markdown",
   "metadata": {},
   "source": [
    "## A Recap of All Existing Data Structures"
   ]
  },
  {
   "cell_type": "markdown",
   "metadata": {},
   "source": [
    "Currently, we have multiple tables containing data in many different forms. We began with our galaxies dataframe, which we acquired from the excel sheet that was read in. This spreadsheet contained metallicity values and galaxy names. From here, we read in another excel sheet containing NO, CO, and SiO values that we could use to define our elemental scale factors (from solar). Using this, we created the ele_df dataframe to keep track of all existing parameters. Continuing further, we used both the galaxies dataframe and ele_df dataframe to create a final dataframe of all the galaxies with their parameters and the variations of these parameters, which serve to mimic the grid function in CLOUDY. Given that our table grew from length 45 (45 original galaxies) to 108045 (45 original gaalaxies with 2400 variations each), I decided to instanstiate a dictionary data structure, under the name pf_collection, so that we can access any individual original galaxy and its variations in a separate dataframe."
   ]
  },
  {
   "cell_type": "markdown",
   "metadata": {},
   "source": [
    "--- galaxies: table containing original 45 galaxies along with final parameters."
   ]
  },
  {
   "cell_type": "markdown",
   "metadata": {},
   "source": [
    "--- ele_df: table containing elemental (X)O values, as well as error values, that can be used to find the scale factors and their variations"
   ]
  },
  {
   "cell_type": "markdown",
   "metadata": {},
   "source": [
    "--- param_df: final parameter table containing all parameters, all galaxies, and all variations (flattened)"
   ]
  },
  {
   "cell_type": "markdown",
   "metadata": {},
   "source": [
    "--- pf_collection: dictionary containing param_df values, but broken up by the original galaxy (whihh serves as the key)"
   ]
  },
  {
   "cell_type": "markdown",
   "metadata": {},
   "source": [
    "--- FITS file: different representation of pf_collection"
   ]
  },
  {
   "cell_type": "markdown",
   "metadata": {},
   "source": [
    "# SAVING ALL THE DATA TO A FITS FILE"
   ]
  },
  {
   "cell_type": "markdown",
   "metadata": {},
   "source": [
    "## Writing in Data to Cloud"
   ]
  },
  {
   "cell_type": "code",
   "execution_count": 65,
   "metadata": {},
   "outputs": [],
   "source": [
    "# define file path\n",
    "path_to_outfiles = '/Users/jat5764/Box/REU_2021_CLOUDY/JAYS_FILES/FITS'\n",
    "outfile = path_to_outfiles + '/classy_cloudy_grid_info.fits'\n",
    "\n",
    "# define the FITS header\n",
    "hdr = pyfits.Header()\n",
    "head = pyfits.PrimaryHDU(header=hdr)\n",
    "hdu = pyfits.HDUList([head])\n",
    "\n",
    "# add in the galaxy data from the dictionary into the FITS file\n",
    "for i in range(1, len(galaxies) + 1):\n",
    "    # define columns from parameter dictionary\n",
    "    name = galaxies.iloc[i - 1, 0]\n",
    "\n",
    "    GAL = pyfits.Column(name='GALAXY',\n",
    "                        array=np.array(pf_collection[name]['Galaxy']),\n",
    "                        format='A14',\n",
    "                        unit='Galaxy Name')\n",
    "    IND = pyfits.Column(name='INDEX',\n",
    "                        array=np.array(pf_collection[name]['Index']),\n",
    "                        format='J')\n",
    "    MET = pyfits.Column(name='METALICITY',\n",
    "                        array=np.array(pf_collection[name]['Metallicity']),\n",
    "                        format='E',\n",
    "                        unit='Percent Z_sol')\n",
    "    LOGU = pyfits.Column(name='LOG U',\n",
    "                         array=np.array(pf_collection[name]['LogU']),\n",
    "                         format='E')\n",
    "    HDENS = pyfits.Column(name='H Dens',\n",
    "                          array=np.array(pf_collection[name]['H Dens']),\n",
    "                          format='E',\n",
    "                          unit='Log m/v')\n",
    "    SCALE_N = pyfits.Column(name='SCALE N',\n",
    "                            array=np.array(pf_collection[name]['N Scale']),\n",
    "                            format='E',\n",
    "                            unit='Percent Solar')\n",
    "    SCALE_C = pyfits.Column(name='SCALE C',\n",
    "                            array=np.array(pf_collection[name]['C Scale']),\n",
    "                            format='E',\n",
    "                            unit='Percent Solar')\n",
    "    SCALE_SI = pyfits.Column(name='SCALE SI',\n",
    "                             array=np.array(pf_collection[name]['Si Scale']),\n",
    "                             format='E',\n",
    "                             unit='Percent Solar')\n",
    "\n",
    "    hdu.append(\n",
    "        pyfits.BinTableHDU.from_columns(\n",
    "            [GAL, IND, MET, LOGU, HDENS, SCALE_N, SCALE_C, SCALE_SI]))\n",
    "    hdu[i].header['EXTNAME'] = name\n",
    "\n",
    "# we set overwrite=True so that we can resave the files each time we update instead of making new ones\n",
    "hdu.writeto(outfile, overwrite=True)\n",
    "hdu.close()"
   ]
  },
  {
   "cell_type": "markdown",
   "metadata": {},
   "source": [
    "As of now, this is clearly not working."
   ]
  },
  {
   "cell_type": "markdown",
   "metadata": {},
   "source": [
    "Questions and Notes:"
   ]
  },
  {
   "cell_type": "markdown",
   "metadata": {},
   "source": [
    "--- Should we expect to have a large number of fits files or a singular file?"
   ]
  },
  {
   "cell_type": "markdown",
   "metadata": {},
   "source": [
    "--- What should we expect to see for a given galaxy?"
   ]
  },
  {
   "cell_type": "markdown",
   "metadata": {},
   "source": [
    "--- It might be worth displaying the data in python, effectively reading in our file and viewing it this way for easy reference and verification."
   ]
  },
  {
   "cell_type": "markdown",
   "metadata": {},
   "source": [
    "--- Should I go ahead on add in the units for the rest of the columns as well?"
   ]
  },
  {
   "cell_type": "markdown",
   "metadata": {},
   "source": [
    "## Reading in FITS Data"
   ]
  },
  {
   "cell_type": "code",
   "execution_count": 66,
   "metadata": {},
   "outputs": [],
   "source": [
    "with pyfits.open(\n",
    "        '/Users/jat5764/Box/REU_2021_CLOUDY/JAYS_FILES/FITS/classy_cloudy_grid_info.fits'\n",
    ") as hdu:\n",
    "    fits_data = hdu[1].data\n",
    "    fits_header = hdu[1].header"
   ]
  },
  {
   "cell_type": "markdown",
   "metadata": {},
   "source": [
    "## Displaying FITS Data for Verification"
   ]
  },
  {
   "cell_type": "code",
   "execution_count": 67,
   "metadata": {},
   "outputs": [
    {
     "name": "stdout",
     "output_type": "stream",
     "text": [
      "XTENSION= 'BINTABLE'           / binary table extension                         BITPIX  =                    8 / array data type                                NAXIS   =                    2 / number of array dimensions                     NAXIS1  =                   42 / length of dimension 1                          NAXIS2  =                 2401 / length of dimension 2                          PCOUNT  =                    0 / number of group parameters                     GCOUNT  =                    1 / number of groups                               TFIELDS =                    8 / number of table fields                         TTYPE1  = 'GALAXY  '                                                            TFORM1  = '14A     '                                                            TUNIT1  = 'Galaxy Name'                                                         TTYPE2  = 'INDEX   '                                                            TFORM2  = 'J       '                                                            TTYPE3  = 'METALICITY'                                                          TFORM3  = 'E       '                                                            TUNIT3  = 'Percent Z_sol'                                                       TTYPE4  = 'LOG U   '                                                            TFORM4  = 'E       '                                                            TTYPE5  = 'H Dens  '                                                            TFORM5  = 'E       '                                                            TUNIT5  = 'Log m/v '                                                            TTYPE6  = 'SCALE N '                                                            TFORM6  = 'E       '                                                            TUNIT6  = 'Percent Solar'                                                       TTYPE7  = 'SCALE C '                                                            TFORM7  = 'E       '                                                            TUNIT7  = 'Percent Solar'                                                       TTYPE8  = 'SCALE SI'                                                            TFORM8  = 'E       '                                                            TUNIT8  = 'Percent Solar'                                                       EXTNAME = 'J0021+0052'                                                          END                                                                                                                                                                                                                                                                                                                                                                                                             \n"
     ]
    }
   ],
   "source": [
    "# FITS header\n",
    "print(fits_header)"
   ]
  },
  {
   "cell_type": "code",
   "execution_count": 68,
   "metadata": {
    "scrolled": true
   },
   "outputs": [
    {
     "name": "stdout",
     "output_type": "stream",
     "text": [
      "[('J0021+0052', 1111, 0.26, -4., 1., 0.22, 0.22, 1.)\n",
      " ('J0021+0052', 1112, 0.26, -4., 1., 0.28, 0.28, 1.)\n",
      " ('J0021+0052', 1113, 0.26, -4., 1., 0.35, 0.35, 1.) ...\n",
      " ('J0021+0052', 7775, 0.59, -4., 1., 0.56, 0.56, 1.)\n",
      " ('J0021+0052', 7776, 0.59, -4., 1., 0.71, 0.71, 1.)\n",
      " ('J0021+0052', 7777, 0.59, -4., 1., 0.89, 0.89, 1.)]\n"
     ]
    }
   ],
   "source": [
    "# FITS data\n",
    "print(fits_data)"
   ]
  },
  {
   "cell_type": "markdown",
   "metadata": {},
   "source": [
    "# CREATING INPUT FILES FOR ALL GALAXY VARIATIONS"
   ]
  },
  {
   "cell_type": "markdown",
   "metadata": {},
   "source": [
    "##  Defining a Function to Write Input Files"
   ]
  },
  {
   "cell_type": "code",
   "execution_count": 69,
   "metadata": {
    "scrolled": true
   },
   "outputs": [
    {
     "data": {
      "text/plain": [
       "'############### \\ntitle J0021+00521111 \\n############### \\nset save prefix \"J0021+00521111\" \\ntable SED \"J0021+0052_stars.txt\" \\nionization parameter -4.0 \\nhden 1.0 \\nsphere \\nabundances gass10 no grains \\ngrains Orions \\nmetals and grains 0.26 \\nelement scale factor nitrogen 0.22 \\nelement scale factor carbon 0.22 \\nelement scale factor silicon 1.0 \\niterate to convergence \\nsave physical conditions \".cond\" \\nsave radius \".rad\" \\nsave overview \".ovr\" \\nsave ionization \".ion\" \\nsave grid \".out\" last separate \\nsave line list \".lin\" \"LineList_HII_DAB.dat\" units Angstroms intrinsic absolute column last separate'"
      ]
     },
     "execution_count": 69,
     "metadata": {},
     "output_type": "execute_result"
    }
   ],
   "source": [
    "# here is an example input file that would be passed into CLOUDY (specific values are irrelevant)\n",
    "def input_files(file, index, galaxy_txt, ion_param, hden, metal, n_scale,\n",
    "                c_scale, si_scale):\n",
    "    str_list = [\n",
    "        '###############', '\\ntitle', file + str(index), '\\n###############',\n",
    "        '\\nset save prefix \"' + file + str(index) + '\"', '\\ntable SED',\n",
    "        '\"' + galaxy_txt + '_stars.txt\"', '\\nionization parameter',\n",
    "        str(ion_param), '\\nhden',\n",
    "        str(hden), '\\nsphere', '\\nabundances gass10 no grains',\n",
    "        '\\ngrains Orions', '\\nmetals and grains',\n",
    "        str(metal), '\\nelement scale factor nitrogen',\n",
    "        str(n_scale), '\\nelement scale factor carbon',\n",
    "        str(c_scale), '\\nelement scale factor silicon',\n",
    "        str(si_scale), '\\niterate to convergence',\n",
    "        '\\nsave physical conditions \".cond\"', '\\nsave radius \".rad\"',\n",
    "        '\\nsave overview \".ovr\"', '\\nsave ionization \".ion\"',\n",
    "        '\\nsave grid \".out\" last separate',\n",
    "        '\\nsave line list \".lin\" \"LineList_HII_DAB.dat\" units Angstroms intrinsic absolute column last separate'\n",
    "    ]\n",
    "\n",
    "    return \" \".join(str_list)\n",
    "\n",
    "\n",
    "file = galaxies['Galaxy'][0]\n",
    "str(\n",
    "    input_files(file, pf_collection[galaxies['Galaxy'][0]]['Index'][0], file,\n",
    "                pf_collection[galaxies['Galaxy'][0]]['LogU'][0],\n",
    "                pf_collection[galaxies['Galaxy'][0]]['H Dens'][0],\n",
    "                pf_collection[galaxies['Galaxy'][0]]['Metallicity'][0],\n",
    "                pf_collection[galaxies['Galaxy'][0]]['N Scale'][0],\n",
    "                pf_collection[galaxies['Galaxy'][0]]['C Scale'][0],\n",
    "                pf_collection[galaxies['Galaxy'][0]]['Si Scale'][0]))"
   ]
  },
  {
   "cell_type": "markdown",
   "metadata": {},
   "source": [
    "The output presented immediately above is written in a way that can be easily read and translated into .txt file text using the .write() method below in 9.2 - 9.4. "
   ]
  },
  {
   "cell_type": "markdown",
   "metadata": {},
   "source": [
    "## Writing All Galaxy Variation Input Files For One CLASSY Galaxy"
   ]
  },
  {
   "cell_type": "code",
   "execution_count": 70,
   "metadata": {},
   "outputs": [
    {
     "data": {
      "text/plain": [
       "'J0021+0052_1143.in'"
      ]
     },
     "execution_count": 70,
     "metadata": {},
     "output_type": "execute_result"
    }
   ],
   "source": [
    "# example input filename and how it is generated\n",
    "galaxies['Galaxy'][0] + '_' + str(\n",
    "    pf_collection[galaxies['Galaxy'][0]]['Index'][23]) + '.in'"
   ]
  },
  {
   "cell_type": "code",
   "execution_count": 71,
   "metadata": {},
   "outputs": [],
   "source": [
    "# looping through variations of galaxy J0021+0052\n",
    "for i in range(len(pf_collection['J0021+0052'])):\n",
    "    # file name and the path to access the file\n",
    "    path = '/Users/jat5764/Box/REU_2021_CLOUDY/JAYS_FILES/CLOUDY_GALAXIES/GAL_J0021+0052/'\n",
    "    file = galaxies['Galaxy'][0]\n",
    "    variation = str(pf_collection[galaxies['Galaxy'][0]]['Index'][i])\n",
    "    FILENAME = path + file + '_' + variation + '.in'\n",
    "\n",
    "    # opening the file in order to write script\n",
    "    ofile = open(FILENAME, \"w\")\n",
    "\n",
    "    # function to write the script\n",
    "    ofile.write(\n",
    "        str(\n",
    "            input_files(file + '_',\n",
    "                        pf_collection[galaxies['Galaxy'][0]]['Index'][i],\n",
    "                        file[:len(galaxies['Galaxy'][0]) - 5],\n",
    "                        pf_collection[galaxies['Galaxy'][0]]['LogU'][i],\n",
    "                        pf_collection[galaxies['Galaxy'][0]]['H Dens'][i],\n",
    "                        pf_collection[galaxies['Galaxy'][0]]['Metallicity'][i],\n",
    "                        pf_collection[galaxies['Galaxy'][0]]['N Scale'][i],\n",
    "                        pf_collection[galaxies['Galaxy'][0]]['C Scale'][i],\n",
    "                        pf_collection[galaxies['Galaxy'][0]]['Si Scale'][i])))\n",
    "\n",
    "    # closing the file\n",
    "    ofile.close()"
   ]
  },
  {
   "cell_type": "markdown",
   "metadata": {},
   "source": [
    "## Writing Input Files for J1044+0053"
   ]
  },
  {
   "cell_type": "code",
   "execution_count": 72,
   "metadata": {},
   "outputs": [],
   "source": [
    "# looping through variations of galaxy J0021+0052\n",
    "for i in range(len(pf_collection['J1044+0353'])):\n",
    "    # file name and the path to access the file\n",
    "    path = '/Users/jat5764/Box/REU_2021_CLOUDY/JAYS_FILES/CLOUDY_GALAXIES/GAL_J1044+0353/'\n",
    "    file = galaxies['Galaxy'][18]\n",
    "    variation = str(pf_collection[galaxies['Galaxy'][18]]['Index'][i])\n",
    "    FILENAME = path + file + '_' + variation + '.in'\n",
    "\n",
    "    # opening the file in order to write script\n",
    "    ofile = open(FILENAME, \"w\")\n",
    "\n",
    "    # function to write the script\n",
    "    ofile.write(\n",
    "        str(\n",
    "            input_files(\n",
    "                file + '_', pf_collection[galaxies['Galaxy'][18]]['Index'][i],\n",
    "                file[:len(galaxies['Galaxy'][0]) - 5] + '57',\n",
    "                pf_collection[galaxies['Galaxy'][18]]['LogU'][i],\n",
    "                pf_collection[galaxies['Galaxy'][18]]['H Dens'][i],\n",
    "                pf_collection[galaxies['Galaxy'][18]]['Metallicity'][i],\n",
    "                pf_collection[galaxies['Galaxy'][18]]['N Scale'][i],\n",
    "                pf_collection[galaxies['Galaxy'][18]]['C Scale'][i],\n",
    "                pf_collection[galaxies['Galaxy'][18]]['Si Scale'][i])))\n",
    "\n",
    "    # closing the file\n",
    "    ofile.close()"
   ]
  },
  {
   "cell_type": "code",
   "execution_count": 36,
   "metadata": {},
   "outputs": [],
   "source": [
    "# looping through variations of galaxy J0021+0052\n",
    "for i in range(4):\n",
    "    # file name and the path to access the file\n",
    "    path = '/Users/jat5764/Research/c17.02/source/'\n",
    "    file = galaxies['Galaxy'][18]\n",
    "    variation = str(pf_collection[galaxies['Galaxy'][18]]['Index'][i])\n",
    "    FILENAME = path + file + '_' + variation + '.in'\n",
    "\n",
    "    # opening the file in order to write script\n",
    "    ofile = open(FILENAME, \"w\")\n",
    "\n",
    "    # function to write the script\n",
    "    ofile.write(\n",
    "        str(\n",
    "            input_files(\n",
    "                file + '_', pf_collection[galaxies['Galaxy'][18]]['Index'][i],\n",
    "                file[:len(galaxies['Galaxy'][0]) - 5] + '57',\n",
    "                pf_collection[galaxies['Galaxy'][18]]['LogU'][i],\n",
    "                pf_collection[galaxies['Galaxy'][18]]['H Dens'][i],\n",
    "                pf_collection[galaxies['Galaxy'][18]]['Metallicity'][i],\n",
    "                pf_collection[galaxies['Galaxy'][18]]['N Scale'][i],\n",
    "                pf_collection[galaxies['Galaxy'][18]]['C Scale'][i],\n",
    "                pf_collection[galaxies['Galaxy'][18]]['Si Scale'][i])))\n",
    "\n",
    "    # closing the file\n",
    "    ofile.close()"
   ]
  },
  {
   "cell_type": "markdown",
   "metadata": {},
   "source": [
    "## Writing All Input Files For All 45 CLASSY Galaxies"
   ]
  },
  {
   "cell_type": "code",
   "execution_count": null,
   "metadata": {},
   "outputs": [],
   "source": []
  },
  {
   "cell_type": "markdown",
   "metadata": {},
   "source": [
    "#  PARSING THROUGH THE GRID FILES OF J1044+0353"
   ]
  },
  {
   "cell_type": "markdown",
   "metadata": {},
   "source": [
    "## Defining Emission Lines"
   ]
  },
  {
   "cell_type": "code",
   "execution_count": null,
   "metadata": {},
   "outputs": [],
   "source": [
    "_lines=['H  1 4861.4A',\n",
    "        'H  1 6562.9A',        \n",
    "        'He 2 1640.0A',\n",
    "        'He 2 4686.0A',        \n",
    "        'O  3 1661.0A',\n",
    "        'O  3 1666.0A',\n",
    "        'O II 3726.0A',\n",
    "        'O II 3729.0A',\n",
    "        'O  3 5007.0A',\n",
    "        'O  3 4959.0A',\n",
    "        'TOTL 4363.0A',        \n",
    "        'C  3 1907.0A',\n",
    "        'C  3 1910.0A',\n",
    "        'C  4 1548.0A',\n",
    "        'C  4 1551.0A',        \n",
    "        'N  5 1239.0A',\n",
    "        'N  4 1485.0A',\n",
    "        'N  4 1486.0A',\n",
    "        'N  2 6548.0A',\n",
    "        'N  2 6584.0A',        \n",
    "        'Si 4 1394.0A',\n",
    "        'Si 4 1403.0A',\n",
    "        'Si 3 1883.0A',\n",
    "        'Si 3 1892.0A']"
   ]
  },
  {
   "cell_type": "markdown",
   "metadata": {},
   "source": [
    "## Handling Line File (.lin)"
   ]
  },
  {
   "cell_type": "code",
   "execution_count": null,
   "metadata": {},
   "outputs": [],
   "source": [
    "class Cloudy_Line():\n",
    "    def __init__(self, filename):\n",
    "        \"\"\"\n",
    "        a class to read in cloudy spectral line output file\n",
    "        usage:\n",
    "        file1=Cloudy_Line('grid000000000_.lin')\n",
    "        then can look at:\n",
    "        file1.data\n",
    "        this uses the list of lines specified above\n",
    "        \"\"\"\n",
    "\n",
    "        if not os.path.exists(filename):\n",
    "            sys.stderr.write('Could not find file %s\\n' % filename)\n",
    "        else:\n",
    "            self.filename = filename\n",
    "            self.lines = _lines\n",
    "            self.data = {}\n",
    "            lines = open(filename).readlines()\n",
    "\n",
    "            for line in lines:\n",
    "                for specline in self.lines:\n",
    "                    if specline in line:\n",
    "                        self.data[specline] = float(line.split()[-3])\n",
    "            for specline in self.lines:\n",
    "                if not self.data.has_key(specline):\n",
    "                    sys.stderr.write('Could not find line \"%s\" in file %s\\n' %\n",
    "                                     (specline, self.filename))\n",
    "                    self.data[specline] = -999"
   ]
  },
  {
   "cell_type": "markdown",
   "metadata": {},
   "source": [
    "## Handling Output Files (.out)"
   ]
  },
  {
   "cell_type": "code",
   "execution_count": null,
   "metadata": {},
   "outputs": [],
   "source": [
    "class Cloudy_Output():\n",
    "    def __init__(self, filename):\n",
    "        self.logU = None\n",
    "        self.Te = None\n",
    "        self.elements = {}\n",
    "        if not os.path.exists(filename):\n",
    "            sys.stderr.write('Could not find file %s\\n' % filename)\n",
    "        else:\n",
    "            self.filename = filename\n",
    "            lines = open(self.filename).readlines()\n",
    "            i = 0\n",
    "            while i < len(lines):\n",
    "                line = lines[i]\n",
    "                if line.strip().startswith('IONIZE PARMET'):\n",
    "                    self.logU = float(line.strip().split()[3])\n",
    "                if line.strip().startswith('Radius'):\n",
    "                    self.Te = float(line.strip().split()[1])\n",
    "                if 'Log10 Mean Ionisation (over radius)' in line:\n",
    "                    if not lines[i + 4].strip().startswith('Carbon'):\n",
    "                        sys.stderr.write(\n",
    "                            'Could not find Carbon data in file %s\\n' %\n",
    "                            filename)\n",
    "                        print lines[i + 4]\n",
    "                    if not lines[i + 5].strip().startswith('Nitrogen'):\n",
    "                        sys.stderr.write(\n",
    "                            'Could not find Nitrogen data in file %s\\n' %\n",
    "                            filename)\n",
    "                    if not lines[i + 6].strip().startswith('Oxygen'):\n",
    "                        sys.stderr.write(\n",
    "                            'Could not find Oxygen data in file %s\\n' %\n",
    "                            filename)\n",
    "                    self.elements['C'] = map(\n",
    "                        float, lines[i + 4].replace('-', ' -').split()[1:])\n",
    "                    self.elements['N'] = map(\n",
    "                        float, lines[i + 5].replace('-', ' -').split()[1:])\n",
    "                    self.elements['O'] = map(\n",
    "                        float, lines[i + 6].replace('-', ' -').split()[1:])\n",
    "                    self.elements['Si'] = map(\n",
    "                        float, lines[i + 11].replace('-', ' -').split()[1:])\n",
    "\n",
    "                i += 1"
   ]
  },
  {
   "cell_type": "markdown",
   "metadata": {},
   "source": [
    "## Iterating Through the Produced Output Files"
   ]
  },
  {
   "cell_type": "code",
   "execution_count": null,
   "metadata": {},
   "outputs": [],
   "source": [
    "# string defining the bases of all the produced files\n",
    "base1 = 'grid00000000'\n",
    "base2 = '_J1044+0353_grid'\n",
    "\n",
    "# number of files\n",
    "nruns = 2459\n",
    "lineoutfile = 'cloudylines.dat'\n",
    "utefile = 'logu_te.dat'\n",
    "ionfile = 'ionfrac.dat'\n",
    "\n",
    "# writing file data to separate file\n",
    "file = open(lineoutfile, 'w')\n",
    "ufile = open(utefile, 'w')\n",
    "ifile = open(ionfile, 'w')\n",
    "\n",
    "# iterating through all the produced files\n",
    "for run in range(0, nruns):\n",
    "    \n",
    "    # handles the changing number of zeros in base1\n",
    "    if (10 <= run < 100):\n",
    "        ubase = base1[:-1]\n",
    "    elif (100 <= run < 1000):\n",
    "        ubase = base1[:-2]\n",
    "    elif (urun > 1000):\n",
    "        ubase = base1[:-3]\n",
    "    # defining the .lin file\n",
    "    linefile = ubase + str(run) + base2 + '.lin'\n",
    "    # defining the .out file\n",
    "    outfile = ubase + str(run) + base2 + '.out'\n",
    "    \n",
    "    str(run)\n",
    "    str(linefile)\n",
    "    str(outfile)\n",
    "\n",
    "    file1 = Cloudy_Line(linefile)\n",
    "    file2 = Cloudy_Output(outfile)\n",
    "\n",
    "    # write headers\n",
    "    if run == 0:\n",
    "        file.write('#Run ')\n",
    "        for linename in file1.lines:\n",
    "            file.write(re.sub(' ', '_', linename) + ' ')\n",
    "        file.write('\\n')\n",
    "\n",
    "        ufile.write('#Run LogU Te\\n')\n",
    "\n",
    "        ifile.write(\n",
    "            '#Run CI CII CIII CIV NI NII NIII NIV OI OII OIII OIV SiI SiII SiIII SiIV\\n'\n",
    "        )\n",
    "\n",
    "    # line data\n",
    "    file.write(str(run) + ' ')\n",
    "    for linename in file1.lines:\n",
    "        file.write(str(file1.data[linename]) + ' ')\n",
    "    file.write('\\n')\n",
    "\n",
    "    # Log U and Te data\n",
    "    ufile.write('%i %3.2f %3.2e\\n' % (run, file2.logU, file2.Te))\n",
    "\n",
    "    # ionization fraction data\n",
    "    ifile.write(\n",
    "        '%i %4.3f %4.3f %4.3f %4.3f %4.3f %4.3f %4.3f %4.3f %4.3f %4.3f %4.3f %4.3f %4.3f %4.3f %4.3f %4.3f\\n'\n",
    "        % (run, file2.elements['C'][0], file2.elements['C'][1],\n",
    "           file2.elements['C'][2], file2.elements['C'][3],\n",
    "           file2.elements['N'][0], file2.elements['N'][1],\n",
    "           file2.elements['N'][2], file2.elements['N'][3],\n",
    "           file2.elements['O'][0], file2.elements['O'][1],\n",
    "           file2.elements['O'][2], file2.elements['O'][3],\n",
    "           file2.elements['Si'][0], file2.elements['Si'][1],\n",
    "           file2.elements['Si'][2], file2.elements['Si'][3]))\n",
    "\n",
    "file.close()\n",
    "ufile.close()\n",
    "ifile.close()"
   ]
  }
 ],
 "metadata": {
  "kernelspec": {
   "display_name": "Python 3",
   "language": "python",
   "name": "python3"
  },
  "toc": {
   "base_numbering": 1,
   "nav_menu": {},
   "number_sections": true,
   "sideBar": true,
   "skip_h1_title": false,
   "title_cell": "Notebook Chapters",
   "title_sidebar": "Notebook Chapters",
   "toc_cell": false,
   "toc_position": {},
   "toc_section_display": true,
   "toc_window_display": false
  },
  "varInspector": {
   "cols": {
    "lenName": 16,
    "lenType": 16,
    "lenVar": 40
   },
   "kernels_config": {
    "python": {
     "delete_cmd_postfix": "",
     "delete_cmd_prefix": "del ",
     "library": "var_list.py",
     "varRefreshCmd": "print(var_dic_list())"
    },
    "r": {
     "delete_cmd_postfix": ") ",
     "delete_cmd_prefix": "rm(",
     "library": "var_list.r",
     "varRefreshCmd": "cat(var_dic_list()) "
    }
   },
   "types_to_exclude": [
    "module",
    "function",
    "builtin_function_or_method",
    "instance",
    "_Feature"
   ],
   "window_display": false
  }
 },
 "nbformat": 4,
 "nbformat_minor": 4
}
