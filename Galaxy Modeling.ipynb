{
 "cells": [
  {
   "cell_type": "markdown",
   "metadata": {},
   "source": [
    "# J1044 ABUNDANCE SCALES AND METALLICITIES"
   ]
  },
  {
   "cell_type": "markdown",
   "metadata": {},
   "source": [
    "## Importing Packages"
   ]
  },
  {
   "cell_type": "code",
   "execution_count": 207,
   "metadata": {},
   "outputs": [],
   "source": [
    "import numpy as np\n",
    "import pandas as pd"
   ]
  },
  {
   "cell_type": "markdown",
   "metadata": {},
   "source": [
    "## Metallicity Determination by Hand"
   ]
  },
  {
   "cell_type": "code",
   "execution_count": 208,
   "metadata": {},
   "outputs": [
    {
     "data": {
      "text/plain": [
       "-4.53"
      ]
     },
     "execution_count": 208,
     "metadata": {},
     "output_type": "execute_result"
    }
   ],
   "source": [
    "logOH12_gal = 7.47\n",
    "logOH_gal = logOH12_gal - 12\n",
    "\n",
    "logOH_gal"
   ]
  },
  {
   "cell_type": "code",
   "execution_count": 209,
   "metadata": {},
   "outputs": [
    {
     "name": "stdout",
     "output_type": "stream",
     "text": [
      "J1044 O/H: -4.53\n",
      "Solar O/H: -3.31\n"
     ]
    }
   ],
   "source": [
    "logOH_solar = -3.31\n",
    "\n",
    "print(\"J1044 O/H:\", logOH_gal)\n",
    "print(\"Solar O/H:\", logOH_solar)"
   ]
  },
  {
   "cell_type": "markdown",
   "metadata": {},
   "source": [
    "To find the metals and grains, we have to find the value of J1044 O/H over solar O/H. However, note that this is a log value and we want to make it linear."
   ]
  },
  {
   "cell_type": "code",
   "execution_count": 210,
   "metadata": {},
   "outputs": [
    {
     "name": "stdout",
     "output_type": "stream",
     "text": [
      "J1044 metals and grains: 0.06\n"
     ]
    }
   ],
   "source": [
    "metallicity = (10**logOH_gal) / (10**logOH_solar)\n",
    "\n",
    "print(\"J1044 metals and grains:\", \"{:.2f}\".format(metallicity))"
   ]
  },
  {
   "cell_type": "markdown",
   "metadata": {},
   "source": [
    "## Defining a Metallicity Scale Function"
   ]
  },
  {
   "cell_type": "code",
   "execution_count": 211,
   "metadata": {},
   "outputs": [],
   "source": [
    "def find_metals(galaxy_OH12):\n",
    "    solar_logOH = -3.31\n",
    "    galaxy_logOH = galaxy_OH12 - 12\n",
    "\n",
    "    galaxy_metals = (10**galaxy_logOH) / (10**solar_logOH)\n",
    "\n",
    "    return float(\"{:.2f}\".format(galaxy_metals))"
   ]
  },
  {
   "cell_type": "code",
   "execution_count": 212,
   "metadata": {},
   "outputs": [],
   "source": [
    "def find_metals_with_err(galaxy_OH12, galaxy_OH12_err):\n",
    "    solar_logOH = -3.31\n",
    "    galaxy_logOH = galaxy_OH12 - 12\n",
    "    galaxy_logOH_err = (galaxy_OH12 + galaxy_OH12_err) - 12\n",
    "\n",
    "    galaxy_metals = (10**galaxy_logOH) / (10**solar_logOH)\n",
    "    galaxy_metals_1sig = (10**galaxy_logOH_err) / (10**solar_logOH)\n",
    "\n",
    "    # return float(\"{.2f,.2f}\".format(galaxy_metals,galaxy_metals_1sig))\n",
    "    return galaxy_metals, galaxy_metals_1sig"
   ]
  },
  {
   "cell_type": "code",
   "execution_count": 213,
   "metadata": {
    "scrolled": false
   },
   "outputs": [
    {
     "name": "stdout",
     "output_type": "stream",
     "text": [
      "Metallicity function works!\n",
      "Our metals and grains value for J1044 is: 0.06\n"
     ]
    }
   ],
   "source": [
    "if find_metals(7.47) == float(\"{:.2f}\".format(metallicity)):\n",
    "    print(\"Metallicity function works!\")\n",
    "    print(\"Our metals and grains value for J1044 is:\", find_metals(7.47))\n",
    "else:\n",
    "    print(\"Not quite right there.\")"
   ]
  },
  {
   "cell_type": "markdown",
   "metadata": {},
   "source": [
    "# ELEMENTAL SCALE FUNCTIONS"
   ]
  },
  {
   "cell_type": "markdown",
   "metadata": {},
   "source": [
    "## Defining a Nitrogen Scale Function"
   ]
  },
  {
   "cell_type": "code",
   "execution_count": 214,
   "metadata": {},
   "outputs": [],
   "source": [
    "def N_scale(galaxy_logNO):\n",
    "    solar_logNH = -4.17\n",
    "    solar_logOH = -3.31\n",
    "    solar_NO = (10**solar_logNH) * (1 / (10**solar_logOH))\n",
    "\n",
    "    scale = (10**galaxy_logNO) / (solar_NO)\n",
    "\n",
    "    return float(\"{:.2f}\".format(scale))"
   ]
  },
  {
   "cell_type": "markdown",
   "metadata": {},
   "source": [
    "## Defining a Carbon Scale Function"
   ]
  },
  {
   "cell_type": "code",
   "execution_count": 215,
   "metadata": {},
   "outputs": [],
   "source": [
    "def C_scale(galaxy_logCO):\n",
    "    solar_logCH = -3.57\n",
    "    solar_logOH = -3.31\n",
    "    solar_CO = (10**solar_logCH) * (1 / (10**solar_logOH))\n",
    "\n",
    "    scale = (10**galaxy_logCO) / (solar_CO)\n",
    "\n",
    "    return float(\"{:.2f}\".format(scale))"
   ]
  },
  {
   "cell_type": "markdown",
   "metadata": {},
   "source": [
    "## Defining a Silicon Scale Function"
   ]
  },
  {
   "cell_type": "code",
   "execution_count": 216,
   "metadata": {},
   "outputs": [],
   "source": [
    "def Si_scale(galaxy_logSiO):\n",
    "    solar_logSiH = -4.49\n",
    "    solar_logOH = -3.31\n",
    "    solar_SiO = (10**solar_logSiH) * (1 / (10**solar_logOH))\n",
    "\n",
    "    scale = (10**galaxy_logSiO) / (solar_SiO)\n",
    "\n",
    "    return float(\"{:.2f}\".format(scale))"
   ]
  },
  {
   "cell_type": "markdown",
   "metadata": {},
   "source": [
    "# CONVERTING GALAXY SPREADSHEET INTO DATAFRAME"
   ]
  },
  {
   "cell_type": "code",
   "execution_count": 217,
   "metadata": {},
   "outputs": [
    {
     "data": {
      "text/html": [
       "<div>\n",
       "<style scoped>\n",
       "    .dataframe tbody tr th:only-of-type {\n",
       "        vertical-align: middle;\n",
       "    }\n",
       "\n",
       "    .dataframe tbody tr th {\n",
       "        vertical-align: top;\n",
       "    }\n",
       "\n",
       "    .dataframe thead th {\n",
       "        text-align: right;\n",
       "    }\n",
       "</style>\n",
       "<table border=\"1\" class=\"dataframe\">\n",
       "  <thead>\n",
       "    <tr style=\"text-align: right;\">\n",
       "      <th></th>\n",
       "      <th>Galaxy</th>\n",
       "      <th>SDSS_density</th>\n",
       "      <th>SDSS_12logOH</th>\n",
       "      <th>OH_error (-)</th>\n",
       "      <th>OH_error (+)</th>\n",
       "      <th>MUSE_12logOH</th>\n",
       "    </tr>\n",
       "  </thead>\n",
       "  <tbody>\n",
       "    <tr>\n",
       "      <th>0</th>\n",
       "      <td>J0021+0052</td>\n",
       "      <td>90</td>\n",
       "      <td>8.28</td>\n",
       "      <td>0.06</td>\n",
       "      <td>0.06</td>\n",
       "      <td>8.14</td>\n",
       "    </tr>\n",
       "    <tr>\n",
       "      <th>1</th>\n",
       "      <td>J0036-3333</td>\n",
       "      <td>-</td>\n",
       "      <td>-</td>\n",
       "      <td>-</td>\n",
       "      <td>-</td>\n",
       "      <td>7.47</td>\n",
       "    </tr>\n",
       "    <tr>\n",
       "      <th>2</th>\n",
       "      <td>J0127-0619</td>\n",
       "      <td>-</td>\n",
       "      <td>-</td>\n",
       "      <td>-</td>\n",
       "      <td>-</td>\n",
       "      <td>-</td>\n",
       "    </tr>\n",
       "    <tr>\n",
       "      <th>3</th>\n",
       "      <td>J0144+0453</td>\n",
       "      <td>-</td>\n",
       "      <td>-</td>\n",
       "      <td>-</td>\n",
       "      <td>-</td>\n",
       "      <td>-</td>\n",
       "    </tr>\n",
       "    <tr>\n",
       "      <th>4</th>\n",
       "      <td>J0337-0502</td>\n",
       "      <td>-</td>\n",
       "      <td>-</td>\n",
       "      <td>-</td>\n",
       "      <td>-</td>\n",
       "      <td>-</td>\n",
       "    </tr>\n",
       "    <tr>\n",
       "      <th>5</th>\n",
       "      <td>J0405-3648</td>\n",
       "      <td>-</td>\n",
       "      <td>-</td>\n",
       "      <td>-</td>\n",
       "      <td>-</td>\n",
       "      <td>7.22</td>\n",
       "    </tr>\n",
       "    <tr>\n",
       "      <th>6</th>\n",
       "      <td>J0808+3948</td>\n",
       "      <td>1250</td>\n",
       "      <td>-</td>\n",
       "      <td>-</td>\n",
       "      <td>-</td>\n",
       "      <td>-</td>\n",
       "    </tr>\n",
       "    <tr>\n",
       "      <th>7</th>\n",
       "      <td>J0823+2806</td>\n",
       "      <td>150</td>\n",
       "      <td>8.33</td>\n",
       "      <td>0.05</td>\n",
       "      <td>0.05</td>\n",
       "      <td>-</td>\n",
       "    </tr>\n",
       "    <tr>\n",
       "      <th>8</th>\n",
       "      <td>J0926+4427</td>\n",
       "      <td>100</td>\n",
       "      <td>8.05</td>\n",
       "      <td>0.08</td>\n",
       "      <td>0.06</td>\n",
       "      <td>-</td>\n",
       "    </tr>\n",
       "    <tr>\n",
       "      <th>9</th>\n",
       "      <td>J0934+5514</td>\n",
       "      <td>-</td>\n",
       "      <td>-</td>\n",
       "      <td>-</td>\n",
       "      <td>-</td>\n",
       "      <td>-</td>\n",
       "    </tr>\n",
       "  </tbody>\n",
       "</table>\n",
       "</div>"
      ],
      "text/plain": [
       "       Galaxy SDSS_density SDSS_12logOH OH_error (-) OH_error (+) MUSE_12logOH\n",
       "0  J0021+0052           90         8.28         0.06         0.06         8.14\n",
       "1  J0036-3333            -            -            -            -         7.47\n",
       "2  J0127-0619            -            -            -            -            -\n",
       "3  J0144+0453            -            -            -            -            -\n",
       "4  J0337-0502            -            -            -            -            -\n",
       "5  J0405-3648            -            -            -            -         7.22\n",
       "6  J0808+3948         1250            -            -            -            -\n",
       "7  J0823+2806          150         8.33         0.05         0.05            -\n",
       "8  J0926+4427          100         8.05         0.08         0.06            -\n",
       "9  J0934+5514            -            -            -            -            -"
      ]
     },
     "execution_count": 217,
     "metadata": {},
     "output_type": "execute_result"
    }
   ],
   "source": [
    "galaxy_vals = pd.read_excel('CLASSY_Metallicity_Te.xlsx')\n",
    "\n",
    "df = galaxy_vals[[\n",
    "    'Unnamed: 1', 'Unnamed: 3', 'Unnamed: 7', 'Unnamed: 8', 'Unnamed: 9',\n",
    "    'Unnamed: 12'\n",
    "]]\n",
    "\n",
    "df1 = df.loc[6:].reset_index(drop=True)\n",
    "df2 = df1.rename(\n",
    "    columns={\n",
    "        'Unnamed: 1': 'Galaxy',\n",
    "        'Unnamed: 3': 'SDSS_density',\n",
    "        'Unnamed: 7': 'SDSS_12logOH',\n",
    "        'Unnamed: 8': 'OH_error (-)',\n",
    "        'Unnamed: 9': 'OH_error (+)',\n",
    "        'Unnamed: 12': 'MUSE_12logOH'\n",
    "    })\n",
    "\n",
    "galaxies = df2\n",
    "galaxies.iloc[43, 2] = 7.77\n",
    "\n",
    "galaxies.head(10)"
   ]
  },
  {
   "cell_type": "markdown",
   "metadata": {},
   "source": [
    "# DETERMINING METALLICITY SCALES FOR ALL GALAXIES"
   ]
  },
  {
   "cell_type": "code",
   "execution_count": 218,
   "metadata": {},
   "outputs": [
    {
     "data": {
      "text/html": [
       "<div>\n",
       "<style scoped>\n",
       "    .dataframe tbody tr th:only-of-type {\n",
       "        vertical-align: middle;\n",
       "    }\n",
       "\n",
       "    .dataframe tbody tr th {\n",
       "        vertical-align: top;\n",
       "    }\n",
       "\n",
       "    .dataframe thead th {\n",
       "        text-align: right;\n",
       "    }\n",
       "</style>\n",
       "<table border=\"1\" class=\"dataframe\">\n",
       "  <thead>\n",
       "    <tr style=\"text-align: right;\">\n",
       "      <th></th>\n",
       "      <th>Galaxy</th>\n",
       "      <th>SDSS_density</th>\n",
       "      <th>SDSS_12logOH</th>\n",
       "      <th>OH_error (-)</th>\n",
       "      <th>OH_error (+)</th>\n",
       "      <th>MUSE_12logOH</th>\n",
       "      <th>CLOUDY metals and grains</th>\n",
       "    </tr>\n",
       "  </thead>\n",
       "  <tbody>\n",
       "    <tr>\n",
       "      <th>0</th>\n",
       "      <td>J0021+0052</td>\n",
       "      <td>90</td>\n",
       "      <td>8.28</td>\n",
       "      <td>0.06</td>\n",
       "      <td>0.06</td>\n",
       "      <td>8.14</td>\n",
       "      <td>0.39</td>\n",
       "    </tr>\n",
       "    <tr>\n",
       "      <th>1</th>\n",
       "      <td>J0036-3333</td>\n",
       "      <td>-</td>\n",
       "      <td>-</td>\n",
       "      <td>-</td>\n",
       "      <td>-</td>\n",
       "      <td>7.47</td>\n",
       "      <td>0.06</td>\n",
       "    </tr>\n",
       "    <tr>\n",
       "      <th>2</th>\n",
       "      <td>J0127-0619</td>\n",
       "      <td>-</td>\n",
       "      <td>-</td>\n",
       "      <td>-</td>\n",
       "      <td>-</td>\n",
       "      <td>-</td>\n",
       "      <td>-</td>\n",
       "    </tr>\n",
       "    <tr>\n",
       "      <th>3</th>\n",
       "      <td>J0144+0453</td>\n",
       "      <td>-</td>\n",
       "      <td>-</td>\n",
       "      <td>-</td>\n",
       "      <td>-</td>\n",
       "      <td>-</td>\n",
       "      <td>-</td>\n",
       "    </tr>\n",
       "    <tr>\n",
       "      <th>4</th>\n",
       "      <td>J0337-0502</td>\n",
       "      <td>-</td>\n",
       "      <td>-</td>\n",
       "      <td>-</td>\n",
       "      <td>-</td>\n",
       "      <td>-</td>\n",
       "      <td>-</td>\n",
       "    </tr>\n",
       "  </tbody>\n",
       "</table>\n",
       "</div>"
      ],
      "text/plain": [
       "       Galaxy SDSS_density SDSS_12logOH OH_error (-) OH_error (+)  \\\n",
       "0  J0021+0052           90         8.28         0.06         0.06   \n",
       "1  J0036-3333            -            -            -            -   \n",
       "2  J0127-0619            -            -            -            -   \n",
       "3  J0144+0453            -            -            -            -   \n",
       "4  J0337-0502            -            -            -            -   \n",
       "\n",
       "  MUSE_12logOH CLOUDY metals and grains  \n",
       "0         8.14                     0.39  \n",
       "1         7.47                     0.06  \n",
       "2            -                        -  \n",
       "3            -                        -  \n",
       "4            -                        -  "
      ]
     },
     "execution_count": 218,
     "metadata": {},
     "output_type": "execute_result"
    }
   ],
   "source": [
    "metallicities = []\n",
    "\n",
    "for SDSS_logOH, MUSE_logOH in zip(galaxies['SDSS_12logOH'],\n",
    "                                  galaxies['MUSE_12logOH']):\n",
    "    if SDSS_logOH != '-':\n",
    "        metal_val = find_metals(SDSS_logOH)\n",
    "        metallicities.append(metal_val)\n",
    "    elif MUSE_logOH != '-':\n",
    "        metal_val = find_metals(MUSE_logOH)\n",
    "        metallicities.append(metal_val)\n",
    "    else:\n",
    "        metallicities.append('-')\n",
    "\n",
    "galaxies['CLOUDY metals and grains'] = metallicities\n",
    "\n",
    "# we can now see our updated dataframe with the metallicity values\n",
    "galaxies.head()"
   ]
  },
  {
   "cell_type": "markdown",
   "metadata": {},
   "source": [
    "# DETERMINING HYDROGEN LOG DENSITY FOR ALL GALAXIES"
   ]
  },
  {
   "cell_type": "code",
   "execution_count": 219,
   "metadata": {
    "scrolled": true
   },
   "outputs": [
    {
     "data": {
      "text/html": [
       "<div>\n",
       "<style scoped>\n",
       "    .dataframe tbody tr th:only-of-type {\n",
       "        vertical-align: middle;\n",
       "    }\n",
       "\n",
       "    .dataframe tbody tr th {\n",
       "        vertical-align: top;\n",
       "    }\n",
       "\n",
       "    .dataframe thead th {\n",
       "        text-align: right;\n",
       "    }\n",
       "</style>\n",
       "<table border=\"1\" class=\"dataframe\">\n",
       "  <thead>\n",
       "    <tr style=\"text-align: right;\">\n",
       "      <th></th>\n",
       "      <th>Galaxy</th>\n",
       "      <th>SDSS_density</th>\n",
       "      <th>SDSS_12logOH</th>\n",
       "      <th>OH_error (-)</th>\n",
       "      <th>OH_error (+)</th>\n",
       "      <th>MUSE_12logOH</th>\n",
       "      <th>CLOUDY metals and grains</th>\n",
       "      <th>log_density</th>\n",
       "    </tr>\n",
       "  </thead>\n",
       "  <tbody>\n",
       "    <tr>\n",
       "      <th>0</th>\n",
       "      <td>J0021+0052</td>\n",
       "      <td>90</td>\n",
       "      <td>8.28</td>\n",
       "      <td>0.06</td>\n",
       "      <td>0.06</td>\n",
       "      <td>8.14</td>\n",
       "      <td>0.39</td>\n",
       "      <td>1</td>\n",
       "    </tr>\n",
       "    <tr>\n",
       "      <th>1</th>\n",
       "      <td>J0036-3333</td>\n",
       "      <td>-</td>\n",
       "      <td>-</td>\n",
       "      <td>-</td>\n",
       "      <td>-</td>\n",
       "      <td>7.47</td>\n",
       "      <td>0.06</td>\n",
       "      <td>-</td>\n",
       "    </tr>\n",
       "    <tr>\n",
       "      <th>2</th>\n",
       "      <td>J0127-0619</td>\n",
       "      <td>-</td>\n",
       "      <td>-</td>\n",
       "      <td>-</td>\n",
       "      <td>-</td>\n",
       "      <td>-</td>\n",
       "      <td>-</td>\n",
       "      <td>-</td>\n",
       "    </tr>\n",
       "    <tr>\n",
       "      <th>3</th>\n",
       "      <td>J0144+0453</td>\n",
       "      <td>-</td>\n",
       "      <td>-</td>\n",
       "      <td>-</td>\n",
       "      <td>-</td>\n",
       "      <td>-</td>\n",
       "      <td>-</td>\n",
       "      <td>-</td>\n",
       "    </tr>\n",
       "    <tr>\n",
       "      <th>4</th>\n",
       "      <td>J0337-0502</td>\n",
       "      <td>-</td>\n",
       "      <td>-</td>\n",
       "      <td>-</td>\n",
       "      <td>-</td>\n",
       "      <td>-</td>\n",
       "      <td>-</td>\n",
       "      <td>-</td>\n",
       "    </tr>\n",
       "    <tr>\n",
       "      <th>5</th>\n",
       "      <td>J0405-3648</td>\n",
       "      <td>-</td>\n",
       "      <td>-</td>\n",
       "      <td>-</td>\n",
       "      <td>-</td>\n",
       "      <td>7.22</td>\n",
       "      <td>0.03</td>\n",
       "      <td>-</td>\n",
       "    </tr>\n",
       "    <tr>\n",
       "      <th>6</th>\n",
       "      <td>J0808+3948</td>\n",
       "      <td>1250</td>\n",
       "      <td>-</td>\n",
       "      <td>-</td>\n",
       "      <td>-</td>\n",
       "      <td>-</td>\n",
       "      <td>-</td>\n",
       "      <td>3</td>\n",
       "    </tr>\n",
       "    <tr>\n",
       "      <th>7</th>\n",
       "      <td>J0823+2806</td>\n",
       "      <td>150</td>\n",
       "      <td>8.33</td>\n",
       "      <td>0.05</td>\n",
       "      <td>0.05</td>\n",
       "      <td>-</td>\n",
       "      <td>0.44</td>\n",
       "      <td>2</td>\n",
       "    </tr>\n",
       "    <tr>\n",
       "      <th>8</th>\n",
       "      <td>J0926+4427</td>\n",
       "      <td>100</td>\n",
       "      <td>8.05</td>\n",
       "      <td>0.08</td>\n",
       "      <td>0.06</td>\n",
       "      <td>-</td>\n",
       "      <td>0.23</td>\n",
       "      <td>2</td>\n",
       "    </tr>\n",
       "    <tr>\n",
       "      <th>9</th>\n",
       "      <td>J0934+5514</td>\n",
       "      <td>-</td>\n",
       "      <td>-</td>\n",
       "      <td>-</td>\n",
       "      <td>-</td>\n",
       "      <td>-</td>\n",
       "      <td>-</td>\n",
       "      <td>-</td>\n",
       "    </tr>\n",
       "  </tbody>\n",
       "</table>\n",
       "</div>"
      ],
      "text/plain": [
       "       Galaxy SDSS_density SDSS_12logOH OH_error (-) OH_error (+)  \\\n",
       "0  J0021+0052           90         8.28         0.06         0.06   \n",
       "1  J0036-3333            -            -            -            -   \n",
       "2  J0127-0619            -            -            -            -   \n",
       "3  J0144+0453            -            -            -            -   \n",
       "4  J0337-0502            -            -            -            -   \n",
       "5  J0405-3648            -            -            -            -   \n",
       "6  J0808+3948         1250            -            -            -   \n",
       "7  J0823+2806          150         8.33         0.05         0.05   \n",
       "8  J0926+4427          100         8.05         0.08         0.06   \n",
       "9  J0934+5514            -            -            -            -   \n",
       "\n",
       "  MUSE_12logOH CLOUDY metals and grains log_density  \n",
       "0         8.14                     0.39           1  \n",
       "1         7.47                     0.06           -  \n",
       "2            -                        -           -  \n",
       "3            -                        -           -  \n",
       "4            -                        -           -  \n",
       "5         7.22                     0.03           -  \n",
       "6            -                        -           3  \n",
       "7            -                     0.44           2  \n",
       "8            -                     0.23           2  \n",
       "9            -                        -           -  "
      ]
     },
     "execution_count": 219,
     "metadata": {},
     "output_type": "execute_result"
    }
   ],
   "source": [
    "hdens = []\n",
    "\n",
    "for density in galaxies['SDSS_density']:\n",
    "    if (density != '-') and (density != '<100'):\n",
    "        d_string = str(density)\n",
    "        power = len(d_string) - 1\n",
    "        hdens.append(power)\n",
    "    elif density == '<100':\n",
    "        hdens.append(1)\n",
    "    else:\n",
    "        hdens.append('-')\n",
    "\n",
    "galaxies['log_density'] = hdens\n",
    "\n",
    "galaxies.head(10)"
   ]
  },
  {
   "cell_type": "markdown",
   "metadata": {},
   "source": [
    "# SCALING THE ABUNDANCES OF N, C, AND Si"
   ]
  },
  {
   "cell_type": "markdown",
   "metadata": {},
   "source": [
    "## Reading in Original Elemental Abundances"
   ]
  },
  {
   "cell_type": "code",
   "execution_count": 220,
   "metadata": {},
   "outputs": [
    {
     "data": {
      "text/html": [
       "<div>\n",
       "<style scoped>\n",
       "    .dataframe tbody tr th:only-of-type {\n",
       "        vertical-align: middle;\n",
       "    }\n",
       "\n",
       "    .dataframe tbody tr th {\n",
       "        vertical-align: top;\n",
       "    }\n",
       "\n",
       "    .dataframe thead th {\n",
       "        text-align: right;\n",
       "    }\n",
       "</style>\n",
       "<table border=\"1\" class=\"dataframe\">\n",
       "  <thead>\n",
       "    <tr style=\"text-align: right;\">\n",
       "      <th></th>\n",
       "      <th>Galaxy</th>\n",
       "      <th>ne_SDSS</th>\n",
       "      <th>OH_SDSS</th>\n",
       "      <th>NO_SDSS</th>\n",
       "      <th>ne_MUSE</th>\n",
       "      <th>OH_MUSE</th>\n",
       "      <th>NO_MUSE</th>\n",
       "      <th>CO_SDSS</th>\n",
       "      <th>CO_MUSE</th>\n",
       "      <th>Si_SDSS</th>\n",
       "      <th>Si_MUSE</th>\n",
       "      <th>N_err</th>\n",
       "      <th>C_err</th>\n",
       "      <th>Si_err</th>\n",
       "    </tr>\n",
       "  </thead>\n",
       "  <tbody>\n",
       "    <tr>\n",
       "      <th>0</th>\n",
       "      <td>J0021+0052</td>\n",
       "      <td>90.0</td>\n",
       "      <td>8.28</td>\n",
       "      <td>-1.211556</td>\n",
       "      <td>120.0</td>\n",
       "      <td>8.14</td>\n",
       "      <td>-0.786478</td>\n",
       "      <td>0.0</td>\n",
       "      <td>0.0</td>\n",
       "      <td>0.0</td>\n",
       "      <td>0.0</td>\n",
       "      <td>0.1</td>\n",
       "      <td>0.1</td>\n",
       "      <td>0.1</td>\n",
       "    </tr>\n",
       "    <tr>\n",
       "      <th>1</th>\n",
       "      <td>J0036-3333</td>\n",
       "      <td>0.0</td>\n",
       "      <td>0.00</td>\n",
       "      <td>0.000000</td>\n",
       "      <td>120.0</td>\n",
       "      <td>7.47</td>\n",
       "      <td>-1.557300</td>\n",
       "      <td>0.0</td>\n",
       "      <td>0.0</td>\n",
       "      <td>0.0</td>\n",
       "      <td>0.0</td>\n",
       "      <td>0.1</td>\n",
       "      <td>0.1</td>\n",
       "      <td>0.1</td>\n",
       "    </tr>\n",
       "    <tr>\n",
       "      <th>2</th>\n",
       "      <td>J0127-0619</td>\n",
       "      <td>0.0</td>\n",
       "      <td>0.00</td>\n",
       "      <td>0.000000</td>\n",
       "      <td>0.0</td>\n",
       "      <td>0.00</td>\n",
       "      <td>0.000000</td>\n",
       "      <td>0.0</td>\n",
       "      <td>0.0</td>\n",
       "      <td>0.0</td>\n",
       "      <td>0.0</td>\n",
       "      <td>0.1</td>\n",
       "      <td>0.1</td>\n",
       "      <td>0.1</td>\n",
       "    </tr>\n",
       "    <tr>\n",
       "      <th>3</th>\n",
       "      <td>J0144+0453</td>\n",
       "      <td>0.0</td>\n",
       "      <td>0.00</td>\n",
       "      <td>0.000000</td>\n",
       "      <td>0.0</td>\n",
       "      <td>0.00</td>\n",
       "      <td>0.000000</td>\n",
       "      <td>0.0</td>\n",
       "      <td>0.0</td>\n",
       "      <td>0.0</td>\n",
       "      <td>0.0</td>\n",
       "      <td>0.1</td>\n",
       "      <td>0.1</td>\n",
       "      <td>0.1</td>\n",
       "    </tr>\n",
       "    <tr>\n",
       "      <th>4</th>\n",
       "      <td>J0337-0502</td>\n",
       "      <td>0.0</td>\n",
       "      <td>0.00</td>\n",
       "      <td>0.000000</td>\n",
       "      <td>0.0</td>\n",
       "      <td>0.00</td>\n",
       "      <td>0.000000</td>\n",
       "      <td>0.0</td>\n",
       "      <td>0.0</td>\n",
       "      <td>0.0</td>\n",
       "      <td>0.0</td>\n",
       "      <td>0.1</td>\n",
       "      <td>0.1</td>\n",
       "      <td>0.1</td>\n",
       "    </tr>\n",
       "  </tbody>\n",
       "</table>\n",
       "</div>"
      ],
      "text/plain": [
       "       Galaxy  ne_SDSS  OH_SDSS   NO_SDSS  ne_MUSE  OH_MUSE   NO_MUSE  \\\n",
       "0  J0021+0052     90.0     8.28 -1.211556    120.0     8.14 -0.786478   \n",
       "1  J0036-3333      0.0     0.00  0.000000    120.0     7.47 -1.557300   \n",
       "2  J0127-0619      0.0     0.00  0.000000      0.0     0.00  0.000000   \n",
       "3  J0144+0453      0.0     0.00  0.000000      0.0     0.00  0.000000   \n",
       "4  J0337-0502      0.0     0.00  0.000000      0.0     0.00  0.000000   \n",
       "\n",
       "   CO_SDSS  CO_MUSE  Si_SDSS  Si_MUSE  N_err  C_err  Si_err  \n",
       "0      0.0      0.0      0.0      0.0    0.1    0.1     0.1  \n",
       "1      0.0      0.0      0.0      0.0    0.1    0.1     0.1  \n",
       "2      0.0      0.0      0.0      0.0    0.1    0.1     0.1  \n",
       "3      0.0      0.0      0.0      0.0    0.1    0.1     0.1  \n",
       "4      0.0      0.0      0.0      0.0    0.1    0.1     0.1  "
      ]
     },
     "execution_count": 220,
     "metadata": {},
     "output_type": "execute_result"
    }
   ],
   "source": [
    "ele_df = pd.read_csv('metalliciy-N_O_SDSS_MUSE.txt', delimiter=r\"\\s+\")\n",
    "\n",
    "# add in zero column for Carbon to handle currently missing data\n",
    "ele_df['CO_SDSS'] = 0.0\n",
    "ele_df['CO_MUSE'] = 0.0\n",
    "\n",
    "# add in zero column for Silicon to handle currently missing data\n",
    "ele_df['Si_SDSS'] = 0.0\n",
    "ele_df['Si_MUSE'] = 0.0\n",
    "\n",
    "# add in error columns of placeholder error value 0.1\n",
    "ele_df['N_err'] = 0.1\n",
    "ele_df['C_err'] = 0.1\n",
    "ele_df['Si_err'] = 0.1\n",
    "\n",
    "ele_df.head()"
   ]
  },
  {
   "cell_type": "markdown",
   "metadata": {},
   "source": [
    "## Creating Nitrogen Scale Column"
   ]
  },
  {
   "cell_type": "code",
   "execution_count": 221,
   "metadata": {
    "scrolled": false
   },
   "outputs": [],
   "source": [
    "NO_scale_list = []\n",
    "\n",
    "for obj1, obj2 in zip(ele_df['NO_SDSS'], ele_df['NO_MUSE']):\n",
    "    if int(obj1) != 0:\n",
    "        NO_scale_list.append(N_scale(obj1))\n",
    "    elif int(obj2) != 0:\n",
    "        NO_scale_list.append(N_scale(obj2))\n",
    "    else:\n",
    "        NO_scale_list.append(0.0)\n",
    "\n",
    "galaxies['NO_scale'] = NO_scale_list"
   ]
  },
  {
   "cell_type": "markdown",
   "metadata": {},
   "source": [
    "## Creating Carbon Scale Column"
   ]
  },
  {
   "cell_type": "code",
   "execution_count": 222,
   "metadata": {},
   "outputs": [],
   "source": [
    "CO_scale_list = []\n",
    "\n",
    "for obj1, obj2 in zip(ele_df['CO_SDSS'], ele_df['CO_MUSE']):\n",
    "    if int(obj1) != 0:\n",
    "        CO_scale_list.append(C_scale(obj1))\n",
    "    elif int(obj2) != 0:\n",
    "        CO_scale_list.append(C_scale(obj2))\n",
    "    else:\n",
    "        CO_scale_list.append(0.0)\n",
    "\n",
    "galaxies['CO_scale'] = CO_scale_list"
   ]
  },
  {
   "cell_type": "markdown",
   "metadata": {},
   "source": [
    "## Creating Silicon Scale Column"
   ]
  },
  {
   "cell_type": "code",
   "execution_count": 223,
   "metadata": {},
   "outputs": [],
   "source": [
    "SiO_scale_list = []\n",
    "\n",
    "for obj1, obj2 in zip(ele_df['Si_SDSS'], ele_df['Si_MUSE']):\n",
    "    if int(obj1) != 0:\n",
    "        SiO_scale_list.append(Si_scale(obj1))\n",
    "    elif int(obj2) != 0:\n",
    "        SiO_scale_list.append(Si_scale(obj2))\n",
    "    else:\n",
    "        SiO_scale_list.append(0.0)\n",
    "\n",
    "galaxies['SiO_scale'] = SiO_scale_list"
   ]
  },
  {
   "cell_type": "markdown",
   "metadata": {},
   "source": [
    "## Updated Galaxies Table With Scale Factors"
   ]
  },
  {
   "cell_type": "code",
   "execution_count": 224,
   "metadata": {},
   "outputs": [
    {
     "data": {
      "text/html": [
       "<div>\n",
       "<style scoped>\n",
       "    .dataframe tbody tr th:only-of-type {\n",
       "        vertical-align: middle;\n",
       "    }\n",
       "\n",
       "    .dataframe tbody tr th {\n",
       "        vertical-align: top;\n",
       "    }\n",
       "\n",
       "    .dataframe thead th {\n",
       "        text-align: right;\n",
       "    }\n",
       "</style>\n",
       "<table border=\"1\" class=\"dataframe\">\n",
       "  <thead>\n",
       "    <tr style=\"text-align: right;\">\n",
       "      <th></th>\n",
       "      <th>Galaxy</th>\n",
       "      <th>SDSS_density</th>\n",
       "      <th>SDSS_12logOH</th>\n",
       "      <th>OH_error (-)</th>\n",
       "      <th>OH_error (+)</th>\n",
       "      <th>MUSE_12logOH</th>\n",
       "      <th>CLOUDY metals and grains</th>\n",
       "      <th>log_density</th>\n",
       "      <th>NO_scale</th>\n",
       "      <th>CO_scale</th>\n",
       "      <th>SiO_scale</th>\n",
       "    </tr>\n",
       "  </thead>\n",
       "  <tbody>\n",
       "    <tr>\n",
       "      <th>0</th>\n",
       "      <td>J0021+0052</td>\n",
       "      <td>90</td>\n",
       "      <td>8.28</td>\n",
       "      <td>0.06</td>\n",
       "      <td>0.06</td>\n",
       "      <td>8.14</td>\n",
       "      <td>0.39</td>\n",
       "      <td>1</td>\n",
       "      <td>0.45</td>\n",
       "      <td>0.0</td>\n",
       "      <td>0.0</td>\n",
       "    </tr>\n",
       "    <tr>\n",
       "      <th>1</th>\n",
       "      <td>J0036-3333</td>\n",
       "      <td>-</td>\n",
       "      <td>-</td>\n",
       "      <td>-</td>\n",
       "      <td>-</td>\n",
       "      <td>7.47</td>\n",
       "      <td>0.06</td>\n",
       "      <td>-</td>\n",
       "      <td>0.20</td>\n",
       "      <td>0.0</td>\n",
       "      <td>0.0</td>\n",
       "    </tr>\n",
       "    <tr>\n",
       "      <th>2</th>\n",
       "      <td>J0127-0619</td>\n",
       "      <td>-</td>\n",
       "      <td>-</td>\n",
       "      <td>-</td>\n",
       "      <td>-</td>\n",
       "      <td>-</td>\n",
       "      <td>-</td>\n",
       "      <td>-</td>\n",
       "      <td>0.00</td>\n",
       "      <td>0.0</td>\n",
       "      <td>0.0</td>\n",
       "    </tr>\n",
       "    <tr>\n",
       "      <th>3</th>\n",
       "      <td>J0144+0453</td>\n",
       "      <td>-</td>\n",
       "      <td>-</td>\n",
       "      <td>-</td>\n",
       "      <td>-</td>\n",
       "      <td>-</td>\n",
       "      <td>-</td>\n",
       "      <td>-</td>\n",
       "      <td>0.00</td>\n",
       "      <td>0.0</td>\n",
       "      <td>0.0</td>\n",
       "    </tr>\n",
       "    <tr>\n",
       "      <th>4</th>\n",
       "      <td>J0337-0502</td>\n",
       "      <td>-</td>\n",
       "      <td>-</td>\n",
       "      <td>-</td>\n",
       "      <td>-</td>\n",
       "      <td>-</td>\n",
       "      <td>-</td>\n",
       "      <td>-</td>\n",
       "      <td>0.00</td>\n",
       "      <td>0.0</td>\n",
       "      <td>0.0</td>\n",
       "    </tr>\n",
       "    <tr>\n",
       "      <th>5</th>\n",
       "      <td>J0405-3648</td>\n",
       "      <td>-</td>\n",
       "      <td>-</td>\n",
       "      <td>-</td>\n",
       "      <td>-</td>\n",
       "      <td>7.22</td>\n",
       "      <td>0.03</td>\n",
       "      <td>-</td>\n",
       "      <td>0.21</td>\n",
       "      <td>0.0</td>\n",
       "      <td>0.0</td>\n",
       "    </tr>\n",
       "    <tr>\n",
       "      <th>6</th>\n",
       "      <td>J0808+3948</td>\n",
       "      <td>1250</td>\n",
       "      <td>-</td>\n",
       "      <td>-</td>\n",
       "      <td>-</td>\n",
       "      <td>-</td>\n",
       "      <td>-</td>\n",
       "      <td>3</td>\n",
       "      <td>0.00</td>\n",
       "      <td>0.0</td>\n",
       "      <td>0.0</td>\n",
       "    </tr>\n",
       "    <tr>\n",
       "      <th>7</th>\n",
       "      <td>J0823+2806</td>\n",
       "      <td>150</td>\n",
       "      <td>8.33</td>\n",
       "      <td>0.05</td>\n",
       "      <td>0.05</td>\n",
       "      <td>-</td>\n",
       "      <td>0.44</td>\n",
       "      <td>2</td>\n",
       "      <td>0.59</td>\n",
       "      <td>0.0</td>\n",
       "      <td>0.0</td>\n",
       "    </tr>\n",
       "    <tr>\n",
       "      <th>8</th>\n",
       "      <td>J0926+4427</td>\n",
       "      <td>100</td>\n",
       "      <td>8.05</td>\n",
       "      <td>0.08</td>\n",
       "      <td>0.06</td>\n",
       "      <td>-</td>\n",
       "      <td>0.23</td>\n",
       "      <td>2</td>\n",
       "      <td>0.38</td>\n",
       "      <td>0.0</td>\n",
       "      <td>0.0</td>\n",
       "    </tr>\n",
       "    <tr>\n",
       "      <th>9</th>\n",
       "      <td>J0934+5514</td>\n",
       "      <td>-</td>\n",
       "      <td>-</td>\n",
       "      <td>-</td>\n",
       "      <td>-</td>\n",
       "      <td>-</td>\n",
       "      <td>-</td>\n",
       "      <td>-</td>\n",
       "      <td>0.00</td>\n",
       "      <td>0.0</td>\n",
       "      <td>0.0</td>\n",
       "    </tr>\n",
       "    <tr>\n",
       "      <th>10</th>\n",
       "      <td>J0938+5428</td>\n",
       "      <td>80</td>\n",
       "      <td>8.33</td>\n",
       "      <td>0.06</td>\n",
       "      <td>0.06</td>\n",
       "      <td>-</td>\n",
       "      <td>0.44</td>\n",
       "      <td>1</td>\n",
       "      <td>0.40</td>\n",
       "      <td>0.0</td>\n",
       "      <td>0.0</td>\n",
       "    </tr>\n",
       "    <tr>\n",
       "      <th>11</th>\n",
       "      <td>J0940+2935</td>\n",
       "      <td>&lt;100</td>\n",
       "      <td>7.82</td>\n",
       "      <td>0.23</td>\n",
       "      <td>0.15</td>\n",
       "      <td>-</td>\n",
       "      <td>0.13</td>\n",
       "      <td>1</td>\n",
       "      <td>0.16</td>\n",
       "      <td>0.0</td>\n",
       "      <td>0.0</td>\n",
       "    </tr>\n",
       "    <tr>\n",
       "      <th>12</th>\n",
       "      <td>J0942+3547</td>\n",
       "      <td>50</td>\n",
       "      <td>8.05</td>\n",
       "      <td>0.04</td>\n",
       "      <td>0.04</td>\n",
       "      <td>-</td>\n",
       "      <td>0.23</td>\n",
       "      <td>1</td>\n",
       "      <td>0.42</td>\n",
       "      <td>0.0</td>\n",
       "      <td>0.0</td>\n",
       "    </tr>\n",
       "    <tr>\n",
       "      <th>13</th>\n",
       "      <td>J0944-0038</td>\n",
       "      <td>120</td>\n",
       "      <td>7.79</td>\n",
       "      <td>0.02</td>\n",
       "      <td>0.02</td>\n",
       "      <td>-</td>\n",
       "      <td>0.13</td>\n",
       "      <td>2</td>\n",
       "      <td>0.23</td>\n",
       "      <td>0.0</td>\n",
       "      <td>0.0</td>\n",
       "    </tr>\n",
       "    <tr>\n",
       "      <th>14</th>\n",
       "      <td>J0944+3442</td>\n",
       "      <td>100</td>\n",
       "      <td>7.64</td>\n",
       "      <td>-</td>\n",
       "      <td>-</td>\n",
       "      <td>-</td>\n",
       "      <td>0.09</td>\n",
       "      <td>2</td>\n",
       "      <td>0.00</td>\n",
       "      <td>0.0</td>\n",
       "      <td>0.0</td>\n",
       "    </tr>\n",
       "  </tbody>\n",
       "</table>\n",
       "</div>"
      ],
      "text/plain": [
       "        Galaxy SDSS_density SDSS_12logOH OH_error (-) OH_error (+)  \\\n",
       "0   J0021+0052           90         8.28         0.06         0.06   \n",
       "1   J0036-3333            -            -            -            -   \n",
       "2   J0127-0619            -            -            -            -   \n",
       "3   J0144+0453            -            -            -            -   \n",
       "4   J0337-0502            -            -            -            -   \n",
       "5   J0405-3648            -            -            -            -   \n",
       "6   J0808+3948         1250            -            -            -   \n",
       "7   J0823+2806          150         8.33         0.05         0.05   \n",
       "8   J0926+4427          100         8.05         0.08         0.06   \n",
       "9   J0934+5514            -            -            -            -   \n",
       "10  J0938+5428           80         8.33         0.06         0.06   \n",
       "11  J0940+2935         <100         7.82         0.23         0.15   \n",
       "12  J0942+3547           50         8.05         0.04         0.04   \n",
       "13  J0944-0038          120         7.79         0.02         0.02   \n",
       "14  J0944+3442          100         7.64            -            -   \n",
       "\n",
       "   MUSE_12logOH CLOUDY metals and grains log_density  NO_scale  CO_scale  \\\n",
       "0          8.14                     0.39           1      0.45       0.0   \n",
       "1          7.47                     0.06           -      0.20       0.0   \n",
       "2             -                        -           -      0.00       0.0   \n",
       "3             -                        -           -      0.00       0.0   \n",
       "4             -                        -           -      0.00       0.0   \n",
       "5          7.22                     0.03           -      0.21       0.0   \n",
       "6             -                        -           3      0.00       0.0   \n",
       "7             -                     0.44           2      0.59       0.0   \n",
       "8             -                     0.23           2      0.38       0.0   \n",
       "9             -                        -           -      0.00       0.0   \n",
       "10            -                     0.44           1      0.40       0.0   \n",
       "11            -                     0.13           1      0.16       0.0   \n",
       "12            -                     0.23           1      0.42       0.0   \n",
       "13            -                     0.13           2      0.23       0.0   \n",
       "14            -                     0.09           2      0.00       0.0   \n",
       "\n",
       "    SiO_scale  \n",
       "0         0.0  \n",
       "1         0.0  \n",
       "2         0.0  \n",
       "3         0.0  \n",
       "4         0.0  \n",
       "5         0.0  \n",
       "6         0.0  \n",
       "7         0.0  \n",
       "8         0.0  \n",
       "9         0.0  \n",
       "10        0.0  \n",
       "11        0.0  \n",
       "12        0.0  \n",
       "13        0.0  \n",
       "14        0.0  "
      ]
     },
     "execution_count": 224,
     "metadata": {},
     "output_type": "execute_result"
    }
   ],
   "source": [
    "galaxies.head(15)"
   ]
  },
  {
   "cell_type": "markdown",
   "metadata": {},
   "source": [
    "add in other columns"
   ]
  },
  {
   "cell_type": "markdown",
   "metadata": {},
   "source": [
    "# CREATING THE FINAL TABLE OF PARAMETERS"
   ]
  },
  {
   "cell_type": "markdown",
   "metadata": {},
   "source": [
    "## Building the List of Galaxies and Their Indices"
   ]
  },
  {
   "cell_type": "code",
   "execution_count": 225,
   "metadata": {},
   "outputs": [],
   "source": [
    "# creating a list of galaxy names\n",
    "gal_grid_list = []\n",
    "\n",
    "# creating a list of the indices\n",
    "param_index = []\n",
    "\n",
    "# number of original galaxies (45)\n",
    "num_galaxies = len(galaxies)\n",
    "\n",
    "# number of grids per parameter\n",
    "n = 7\n",
    "\n",
    "# empty lists of parameters to match indices\n",
    "imet = []\n",
    "iLu = []\n",
    "idens = []\n",
    "iNit = []\n",
    "iCarb = []\n",
    "iSic = []\n",
    "\n",
    "# LOOP THROUGH EACH GALAXY:\n",
    "for i in range(num_galaxies):\n",
    "\n",
    "    # LOOP THROUGH METALLICITY:\n",
    "    for x_1 in range(1,n+1):\n",
    "        \n",
    "        # LOOP THROUGH LOG U:\n",
    "        for x_2 in range(1,n+1):\n",
    "            \n",
    "            # LOOP THROUGH DENSITY:\n",
    "            for x_3 in range(1,n+1):\n",
    "                \n",
    "                # LOOP THROUGH CNSi:\n",
    "                for x_4 in range(1,n+1):\n",
    "                    \n",
    "                    ##### DEFINE THE METALLICITY SOLAR SCALE\n",
    "                    if (galaxies.iloc[i,2] != '-') and (galaxies.iloc[i,4] != '-'):\n",
    "                        # define the original OH value and error value\n",
    "                        og_OHval = galaxies.iloc[i,2]\n",
    "                        err_OHval = galaxies.iloc[i,4]\n",
    "                        \n",
    "                        begin_logval = og_OHval - (3 * err_OHval)\n",
    "                        final_val = find_metals(begin_logval + err_OHval*(x_1 - 1))\n",
    "                        imet.append(final_val)\n",
    "                    # if OH abundance ratio is null (make sure this doesn't mess up index)\n",
    "                    else:\n",
    "                        imet.append(0.0)\n",
    "                        \n",
    "                    ##### DEFINE THE LOG_U PARAMETER STARRRR\n",
    "                    logU = -4\n",
    "                    step_logU = 0.5\n",
    "                    init_logU = logU - (3*step_logU)\n",
    "                    final_logU = init_logU + step_logU*(x_2 - 1)\n",
    "                    \n",
    "                    iLu.append(final_logU)\n",
    "                    \n",
    "                    ##### DEFINE THE DENSITY PARAMETER\n",
    "                    idens.append(2.0)\n",
    "                    \n",
    "                    ##### DEFINE ELEMENTAL SCALES\n",
    "                    ### NITROGEN\n",
    "                    if (galaxies.iloc[i,8] != 0.00):\n",
    "                        # setting the error value\n",
    "                        err1_NOval = ele_df.iloc[i,11]\n",
    "                        \n",
    "                        # if-else to set the original NO value\n",
    "                        if (int(ele_df.iloc[i,3]) != 0):\n",
    "                            # NO SDSS\n",
    "                            og1_NOval = ele_df.iloc[i,3]\n",
    "                        else:\n",
    "                            # NO MUSE\n",
    "                            og1_NOval = ele_df.iloc[i,6]\n",
    "                        \n",
    "                        begin1_NOval = og1_NOval - (3*err1_NOval)\n",
    "                        final1_NOval = N_scale(begin1_NOval + err1_NOval*(x_4 - 1))\n",
    "                        iNit.append(final1_NOval)\n",
    "                        \n",
    "                    # checking that C isn't null so that we can scale N with C\n",
    "                    elif (galaxies.iloc[i,9] != 0.0):\n",
    "                        # setting the error value\n",
    "                        err1_COval = ele_df.iloc[i,12]\n",
    "                        \n",
    "                        # if-else to set the original NO value\n",
    "                        if (int(ele_df.iloc[i,7]) != 0):\n",
    "                            # CO SDSS\n",
    "                            og1_COval = ele_df.iloc[i,7]\n",
    "                        else:\n",
    "                            # CO MUSE\n",
    "                            og1_COval = ele_df.iloc[i,8]\n",
    "                        \n",
    "                        begin1_COval = og1_COval - (3*err1_COval)\n",
    "                        final1_COval = C_scale(begin1_COval + err1_COval*(x_4 - 1))\n",
    "                        iNit.append(final1_COval)\n",
    "                    \n",
    "                    # appending zero if both Nitrogen and Carbon are null\n",
    "                    else:\n",
    "                        iNit.append(1.0)\n",
    "\n",
    "                    ### CARBON\n",
    "                    if (galaxies.iloc[i,9] != 0.0):\n",
    "                        # setting the error value\n",
    "                        err2_COval = ele_df.iloc[i,12]\n",
    "                        \n",
    "                        # if-else to set the original NO value\n",
    "                        if (int(ele_df.iloc[i,7]) != 0):\n",
    "                            # CO SDSS\n",
    "                            og2_COval = ele_df.iloc[i,7]\n",
    "                        else:\n",
    "                            # CO MUSE\n",
    "                            og2_COval = ele_df.iloc[i,8]\n",
    "                        \n",
    "                        begin2_COval = og2_COval - (3*err2_COval)\n",
    "                        final2_COval = C_scale(begin2_COval + err2_COval*(x_4 - 1))\n",
    "                        iCarb.append(final2_COval)\n",
    "                    \n",
    "                    # if N is not null, scale C with N\n",
    "                    elif (galaxies.iloc[i,8] != 0.00):\n",
    "                        # setting the error value\n",
    "                        err2_NOval = ele_df.iloc[i,11]\n",
    "                        \n",
    "                        # if-else to set the original NO value\n",
    "                        if (int(ele_df.iloc[i,3]) != 0):\n",
    "                            # NO SDSS\n",
    "                            og2_NOval = ele_df.iloc[i,3]\n",
    "                        else:\n",
    "                            # NO MUSE\n",
    "                            og2_NOval = ele_df.iloc[i,6]\n",
    "                        \n",
    "                        begin2_NOval = og2_NOval - (3*err2_NOval)\n",
    "                        final2_NOval = N_scale(begin2_NOval + err2_NOval*(x_4 - 1))\n",
    "                        iCarb.append(final2_NOval)\n",
    "                    \n",
    "                    # append zero if both Carbon and Nitrogen are null\n",
    "                    else:\n",
    "                        iCarb.append(1.0)\n",
    "\n",
    "                    ### SILICON\n",
    "                    if (galaxies.iloc[i,10] != 0.0):\n",
    "                        # setting the error value\n",
    "                        err_Sival = ele_df.iloc[i,13]\n",
    "                        \n",
    "                        # if-else to set the original SiO value\n",
    "                        if (int(ele_df.iloc[i,9]) != 0):\n",
    "                            # SiO SDSS\n",
    "                            og_SiOval = ele_df.iloc[i,9]\n",
    "                        else:\n",
    "                            # SiO MUSE\n",
    "                            og_SiOval = ele_df.iloc[i,10]\n",
    "                        \n",
    "                        begin_SiOval = og_SiOval - (3*err_SiOval)\n",
    "                        final_SiOval = C_scale(begin_SiOval + err_SiOval*(x_4 - 1))\n",
    "                        iSic.append(final_SiOval)\n",
    "                    \n",
    "                    # append one if Silicon is null\n",
    "                    else:\n",
    "                        iSic.append(1.0)\n",
    "\n",
    "                    # define the galaxies column\n",
    "                    gal_grid_list.append(galaxies.iloc[i,0])\n",
    "                    \n",
    "                    # define the index\n",
    "                    param_index.append(int(str(x_1) + str(x_2) + str(x_3) + str(x_4)))\n",
    "\n",
    "# add all the lists to a table\n",
    "param_df = pd.DataFrame()\n",
    "\n",
    "param_df['Index'] = param_index\n",
    "param_df['Galaxy'] = gal_grid_list\n",
    "param_df['Metallicity'] = imet\n",
    "param_df['LogU'] = iLu\n",
    "param_df['H Dens'] = idens\n",
    "param_df['N Scale'] = iNit\n",
    "param_df['C Scale'] = iCarb\n",
    "param_df['Si Scale'] = iSic"
   ]
  },
  {
   "cell_type": "markdown",
   "metadata": {},
   "source": [
    "## Understanding Our Parameter DataFrame"
   ]
  },
  {
   "cell_type": "code",
   "execution_count": 226,
   "metadata": {},
   "outputs": [
    {
     "data": {
      "text/html": [
       "<div>\n",
       "<style scoped>\n",
       "    .dataframe tbody tr th:only-of-type {\n",
       "        vertical-align: middle;\n",
       "    }\n",
       "\n",
       "    .dataframe tbody tr th {\n",
       "        vertical-align: top;\n",
       "    }\n",
       "\n",
       "    .dataframe thead th {\n",
       "        text-align: right;\n",
       "    }\n",
       "</style>\n",
       "<table border=\"1\" class=\"dataframe\">\n",
       "  <thead>\n",
       "    <tr style=\"text-align: right;\">\n",
       "      <th></th>\n",
       "      <th>Index</th>\n",
       "      <th>Galaxy</th>\n",
       "      <th>Metallicity</th>\n",
       "      <th>LogU</th>\n",
       "      <th>H Dens</th>\n",
       "      <th>N Scale</th>\n",
       "      <th>C Scale</th>\n",
       "      <th>Si Scale</th>\n",
       "    </tr>\n",
       "  </thead>\n",
       "  <tbody>\n",
       "    <tr>\n",
       "      <th>0</th>\n",
       "      <td>1111</td>\n",
       "      <td>J0021+0052</td>\n",
       "      <td>0.26</td>\n",
       "      <td>-5.5</td>\n",
       "      <td>2.0</td>\n",
       "      <td>0.22</td>\n",
       "      <td>0.22</td>\n",
       "      <td>1.0</td>\n",
       "    </tr>\n",
       "    <tr>\n",
       "      <th>1</th>\n",
       "      <td>1112</td>\n",
       "      <td>J0021+0052</td>\n",
       "      <td>0.26</td>\n",
       "      <td>-5.5</td>\n",
       "      <td>2.0</td>\n",
       "      <td>0.28</td>\n",
       "      <td>0.28</td>\n",
       "      <td>1.0</td>\n",
       "    </tr>\n",
       "    <tr>\n",
       "      <th>2</th>\n",
       "      <td>1113</td>\n",
       "      <td>J0021+0052</td>\n",
       "      <td>0.26</td>\n",
       "      <td>-5.5</td>\n",
       "      <td>2.0</td>\n",
       "      <td>0.35</td>\n",
       "      <td>0.35</td>\n",
       "      <td>1.0</td>\n",
       "    </tr>\n",
       "    <tr>\n",
       "      <th>3</th>\n",
       "      <td>1114</td>\n",
       "      <td>J0021+0052</td>\n",
       "      <td>0.26</td>\n",
       "      <td>-5.5</td>\n",
       "      <td>2.0</td>\n",
       "      <td>0.45</td>\n",
       "      <td>0.45</td>\n",
       "      <td>1.0</td>\n",
       "    </tr>\n",
       "    <tr>\n",
       "      <th>4</th>\n",
       "      <td>1115</td>\n",
       "      <td>J0021+0052</td>\n",
       "      <td>0.26</td>\n",
       "      <td>-5.5</td>\n",
       "      <td>2.0</td>\n",
       "      <td>0.56</td>\n",
       "      <td>0.56</td>\n",
       "      <td>1.0</td>\n",
       "    </tr>\n",
       "  </tbody>\n",
       "</table>\n",
       "</div>"
      ],
      "text/plain": [
       "   Index      Galaxy  Metallicity  LogU  H Dens  N Scale  C Scale  Si Scale\n",
       "0   1111  J0021+0052         0.26  -5.5     2.0     0.22     0.22       1.0\n",
       "1   1112  J0021+0052         0.26  -5.5     2.0     0.28     0.28       1.0\n",
       "2   1113  J0021+0052         0.26  -5.5     2.0     0.35     0.35       1.0\n",
       "3   1114  J0021+0052         0.26  -5.5     2.0     0.45     0.45       1.0\n",
       "4   1115  J0021+0052         0.26  -5.5     2.0     0.56     0.56       1.0"
      ]
     },
     "execution_count": 226,
     "metadata": {},
     "output_type": "execute_result"
    }
   ],
   "source": [
    "param_df.head()"
   ]
  },
  {
   "cell_type": "markdown",
   "metadata": {},
   "source": [
    "So given the way the loop is set up, we step through our grid initally from the last parameters, namely the elemental scales. We can see from the few values displayed above that this galaxy, J0021+0052, had a null value for either it's NO abundance or CO abundance but has the other value. Therefore, we scaled the missing value with the non-missing one and should expect that every iteration of this galaxy have equal scale factors for N and C."
   ]
  },
  {
   "cell_type": "code",
   "execution_count": 227,
   "metadata": {},
   "outputs": [
    {
     "name": "stdout",
     "output_type": "stream",
     "text": [
      "Number of total galaxies (input files): 108045\n"
     ]
    }
   ],
   "source": [
    "print('Number of total galaxies (input files):', len(param_df))"
   ]
  },
  {
   "cell_type": "code",
   "execution_count": 228,
   "metadata": {},
   "outputs": [
    {
     "name": "stdout",
     "output_type": "stream",
     "text": [
      "Number of variations per galaxy (including original): 2401\n"
     ]
    }
   ],
   "source": [
    "print('Number of variations per galaxy (including original):', int(len(param_df) / 45))"
   ]
  },
  {
   "cell_type": "markdown",
   "metadata": {},
   "source": [
    "## Checking that the Values Match the Indices"
   ]
  },
  {
   "cell_type": "markdown",
   "metadata": {},
   "source": [
    "check by cross-referencing the values of parameters with the same single-value index but different across the general index"
   ]
  },
  {
   "cell_type": "raw",
   "metadata": {},
   "source": [
    "iterate through 3 galaxies:\n",
    "    iterate through variations:\n",
    "        if param (for all params):\n",
    "            append to param list\n",
    "            \n",
    "iterate through list (for all lists):\n",
    "    if value doesn't match previous:\n",
    "        apppend to error list\n",
    "        \n",
    "print name and counts of errors in the lists   "
   ]
  },
  {
   "cell_type": "code",
   "execution_count": 229,
   "metadata": {},
   "outputs": [
    {
     "name": "stdout",
     "output_type": "stream",
     "text": [
      "The number of errrors in our elemental scale factor parameter: 0\n"
     ]
    }
   ],
   "source": [
    "# defining our galaxy as a sub-dataframe\n",
    "first_index = 0\n",
    "last_index = 2401\n",
    "\n",
    "temp_galaxy = param_df.iloc[first_index:last_index]\n",
    "\n",
    "# creating a list of values for a specified parameter in a specified galaxy\n",
    "vals = []\n",
    "\n",
    "for i in range(len(temp_galaxy)):\n",
    "    temp_index_list = [char for char in str(temp_galaxy.iloc[i,0])]\n",
    "\n",
    "    if (temp_index_list[3] == '1'):\n",
    "        vals.append(temp_galaxy.iloc[i,5])\n",
    "        \n",
    "# error counter as we iterate through our list of values\n",
    "error = 0\n",
    "\n",
    "for j in range(len(vals)):\n",
    "    if vals[j] != vals[j-1]:\n",
    "        error +=1\n",
    "        \n",
    "print(\"The number of errrors in our elemental scale factor parameter:\", error)"
   ]
  },
  {
   "cell_type": "markdown",
   "metadata": {},
   "source": [
    "Could also try using data.loc 'where' method to access all iterations where the galaxy and the and the parameter variation are the same. Make this a list, then analyze the list to see if there are any differing values, which we can classify as errors. The expectation is that there either exist some n number of errors or zero errors. Given n, we can use this to deduce where the errors are being raised in the index, since we have a set of loops with differing ranges that are related to our value n."
   ]
  },
  {
   "cell_type": "markdown",
   "metadata": {},
   "source": [
    "## Creating a Dictionary to More Easily Access Individual Galaxies"
   ]
  },
  {
   "cell_type": "code",
   "execution_count": 230,
   "metadata": {},
   "outputs": [
    {
     "name": "stdout",
     "output_type": "stream",
     "text": [
      "J0021+0052  :        Index      Galaxy  Metallicity  LogU  H Dens  N Scale  C Scale  Si Scale\n",
      "0      1111  J0021+0052         0.26  -5.5     2.0     0.22     0.22       1.0\n",
      "1      1112  J0021+0052         0.26  -5.5     2.0     0.28     0.28       1.0\n",
      "2      1113  J0021+0052         0.26  -5.5     2.0     0.35     0.35       1.0\n",
      "3      1114  J0021+0052         0.26  -5.5     2.0     0.45     0.45       1.0\n",
      "4      1115  J0021+0052         0.26  -5.5     2.0     0.56     0.56       1.0\n",
      "...     ...         ...          ...   ...     ...      ...      ...       ...\n",
      "2395   7772  J0021+0052         0.59  -2.5     2.0     0.28     0.28       1.0\n",
      "2396   7773  J0021+0052         0.59  -2.5     2.0     0.35     0.35       1.0\n",
      "2397   7774  J0021+0052         0.59  -2.5     2.0     0.45     0.45       1.0\n",
      "2398   7775  J0021+0052         0.59  -2.5     2.0     0.56     0.56       1.0\n",
      "2399   7776  J0021+0052         0.59  -2.5     2.0     0.71     0.71       1.0\n",
      "\n",
      "[2400 rows x 8 columns]\n",
      "J0036-3333  :        Index      Galaxy  Metallicity  LogU  H Dens  N Scale  C Scale  Si Scale\n",
      "2401   1111  J0036-3333          0.0  -5.5     2.0     0.10     0.10       1.0\n",
      "2402   1112  J0036-3333          0.0  -5.5     2.0     0.13     0.13       1.0\n",
      "2403   1113  J0036-3333          0.0  -5.5     2.0     0.16     0.16       1.0\n",
      "2404   1114  J0036-3333          0.0  -5.5     2.0     0.20     0.20       1.0\n",
      "2405   1115  J0036-3333          0.0  -5.5     2.0     0.25     0.25       1.0\n",
      "...     ...         ...          ...   ...     ...      ...      ...       ...\n",
      "4796   7772  J0036-3333          0.0  -2.5     2.0     0.13     0.13       1.0\n",
      "4797   7773  J0036-3333          0.0  -2.5     2.0     0.16     0.16       1.0\n",
      "4798   7774  J0036-3333          0.0  -2.5     2.0     0.20     0.20       1.0\n",
      "4799   7775  J0036-3333          0.0  -2.5     2.0     0.25     0.25       1.0\n",
      "4800   7776  J0036-3333          0.0  -2.5     2.0     0.32     0.32       1.0\n",
      "\n",
      "[2400 rows x 8 columns]\n",
      "J0127-0619  :        Index      Galaxy  Metallicity  LogU  H Dens  N Scale  C Scale  Si Scale\n",
      "4802   1111  J0127-0619          0.0  -5.5     2.0      1.0      1.0       1.0\n",
      "4803   1112  J0127-0619          0.0  -5.5     2.0      1.0      1.0       1.0\n",
      "4804   1113  J0127-0619          0.0  -5.5     2.0      1.0      1.0       1.0\n",
      "4805   1114  J0127-0619          0.0  -5.5     2.0      1.0      1.0       1.0\n",
      "4806   1115  J0127-0619          0.0  -5.5     2.0      1.0      1.0       1.0\n",
      "...     ...         ...          ...   ...     ...      ...      ...       ...\n",
      "7197   7772  J0127-0619          0.0  -2.5     2.0      1.0      1.0       1.0\n",
      "7198   7773  J0127-0619          0.0  -2.5     2.0      1.0      1.0       1.0\n",
      "7199   7774  J0127-0619          0.0  -2.5     2.0      1.0      1.0       1.0\n",
      "7200   7775  J0127-0619          0.0  -2.5     2.0      1.0      1.0       1.0\n",
      "7201   7776  J0127-0619          0.0  -2.5     2.0      1.0      1.0       1.0\n",
      "\n",
      "[2400 rows x 8 columns]\n",
      "J0144+0453  :        Index      Galaxy  Metallicity  LogU  H Dens  N Scale  C Scale  Si Scale\n",
      "7203   1111  J0144+0453          0.0  -5.5     2.0      1.0      1.0       1.0\n",
      "7204   1112  J0144+0453          0.0  -5.5     2.0      1.0      1.0       1.0\n",
      "7205   1113  J0144+0453          0.0  -5.5     2.0      1.0      1.0       1.0\n",
      "7206   1114  J0144+0453          0.0  -5.5     2.0      1.0      1.0       1.0\n",
      "7207   1115  J0144+0453          0.0  -5.5     2.0      1.0      1.0       1.0\n",
      "...     ...         ...          ...   ...     ...      ...      ...       ...\n",
      "9598   7772  J0144+0453          0.0  -2.5     2.0      1.0      1.0       1.0\n",
      "9599   7773  J0144+0453          0.0  -2.5     2.0      1.0      1.0       1.0\n",
      "9600   7774  J0144+0453          0.0  -2.5     2.0      1.0      1.0       1.0\n",
      "9601   7775  J0144+0453          0.0  -2.5     2.0      1.0      1.0       1.0\n",
      "9602   7776  J0144+0453          0.0  -2.5     2.0      1.0      1.0       1.0\n",
      "\n",
      "[2400 rows x 8 columns]\n",
      "J0337-0502  :         Index      Galaxy  Metallicity  LogU  H Dens  N Scale  C Scale  \\\n",
      "9604    1111  J0337-0502          0.0  -5.5     2.0      1.0      1.0   \n",
      "9605    1112  J0337-0502          0.0  -5.5     2.0      1.0      1.0   \n",
      "9606    1113  J0337-0502          0.0  -5.5     2.0      1.0      1.0   \n",
      "9607    1114  J0337-0502          0.0  -5.5     2.0      1.0      1.0   \n",
      "9608    1115  J0337-0502          0.0  -5.5     2.0      1.0      1.0   \n",
      "...      ...         ...          ...   ...     ...      ...      ...   \n",
      "11999   7772  J0337-0502          0.0  -2.5     2.0      1.0      1.0   \n",
      "12000   7773  J0337-0502          0.0  -2.5     2.0      1.0      1.0   \n",
      "12001   7774  J0337-0502          0.0  -2.5     2.0      1.0      1.0   \n",
      "12002   7775  J0337-0502          0.0  -2.5     2.0      1.0      1.0   \n",
      "12003   7776  J0337-0502          0.0  -2.5     2.0      1.0      1.0   \n",
      "\n",
      "       Si Scale  \n",
      "9604        1.0  \n",
      "9605        1.0  \n",
      "9606        1.0  \n",
      "9607        1.0  \n",
      "9608        1.0  \n",
      "...         ...  \n",
      "11999       1.0  \n",
      "12000       1.0  \n",
      "12001       1.0  \n",
      "12002       1.0  \n",
      "12003       1.0  \n",
      "\n",
      "[2400 rows x 8 columns]\n"
     ]
    }
   ],
   "source": [
    "# initialize an empty dictionary\n",
    "pf_collection = {}\n",
    "\n",
    "# iterate through original 45 galaxies\n",
    "for gal in range(45):\n",
    "    first_index = 2401 * gal\n",
    "    last_index = 2401 * (gal + 1) - 1\n",
    "    temp_df = param_df.iloc[first_index:last_index]\n",
    "\n",
    "    # our key is the name of the galaxy\n",
    "    key = str(galaxies.iloc[gal, 0])\n",
    "\n",
    "    pf_collection[key] = temp_df\n",
    "\n",
    "# display our new dictionary\n",
    "counter = 0\n",
    "\n",
    "for key, value in pf_collection.items():\n",
    "    if (counter < 5):\n",
    "        print(key, ' : ', value)\n",
    "        counter += 1"
   ]
  },
  {
   "cell_type": "markdown",
   "metadata": {},
   "source": [
    "## A Guide to the Galaxy Index"
   ]
  },
  {
   "cell_type": "markdown",
   "metadata": {},
   "source": [
    "In case the index is not clear, there are four numbers in the index with each number being associated with a different parameter that contains a grid: "
   ]
  },
  {
   "cell_type": "markdown",
   "metadata": {},
   "source": [
    "1st integer ----> <span class=\"mark\">Metallicity</span>"
   ]
  },
  {
   "cell_type": "markdown",
   "metadata": {},
   "source": [
    "2nd integer ----> <span class=\"mark\">Nitrogen (N) scale factor</span>"
   ]
  },
  {
   "cell_type": "markdown",
   "metadata": {},
   "source": [
    "3rd integer ----> <span class=\"mark\">Carbon (C) scale factor</span>"
   ]
  },
  {
   "cell_type": "markdown",
   "metadata": {},
   "source": [
    "4th integer ----> <span class=\"mark\">Silicon (Si) scale factor</span>"
   ]
  },
  {
   "cell_type": "markdown",
   "metadata": {},
   "source": [
    "Each integer ranges from 1-7 because we are taking the uncertainty of the previosuly found values for the original galaxies, and we are multiplying this uncertainty by 3 in both the (+) and (-) direction."
   ]
  },
  {
   "cell_type": "markdown",
   "metadata": {},
   "source": [
    "Therefore, a value of 6.4 with +/- uncertainty of 0.2 will give us a range of (5.8,7.0) with a step factor of 0.2. Thus, we will have galaxies with values for  [5.8, 6.0, 6.2, 6.4, 6.6, 6.8, 7.0] with the corresponding index  [1, 2, 3, 4, 5, 6, 7]"
   ]
  },
  {
   "cell_type": "markdown",
   "metadata": {},
   "source": [
    "Given this, we can note that the original value for a galaxy will be marked with the index 4 for that parameter and the galaxy with all the original parameter values is that with index 4444."
   ]
  },
  {
   "cell_type": "markdown",
   "metadata": {},
   "source": [
    "# SAVING ALL THE DATA TO A FITS FILE"
   ]
  },
  {
   "cell_type": "markdown",
   "metadata": {},
   "source": [
    "## Writing in Data to Cloud"
   ]
  },
  {
   "cell_type": "code",
   "execution_count": 231,
   "metadata": {},
   "outputs": [],
   "source": [
    "from astropy.io import fits as pyfits\n",
    "path_to_outfiles = '/Users/jat5764/Box/REU_2021_CLOUDY/JAYS_FILES/FITS'\n",
    "outfile = path_to_outfiles + '/classy_cloudy_grid_info.fits'\n",
    "hdr = pyfits.Header()\n",
    "head = pyfits.PrimaryHDU(header=hdr)\n",
    "hdu  = pyfits.HDUList([head])\n",
    "for i in range(len(galaxies)):\n",
    "# define columns from parameter dictionary\n",
    "    name = galaxies.iloc[i,0]\n",
    "    GAL = pyfits.Column(name='GALAXY', array=np.array(pf_collection[name]['Galaxy']), format='A14')\n",
    "    IND = pyfits.Column(name='INDEX', array=np.array(pf_collection[name]['Index']), format='J')\n",
    "    MET = pyfits.Column(name='METALICITY', array=np.array(pf_collection[name]['Metallicity']), format='E', unit='Percent Z_sol')\n",
    "    LOGU = pyfits.Column(name='LOG U', array=np.array(pf_collection[name]['LogU']), format='E')\n",
    "    HDENS = pyfits.Column(name='H Dens', array=np.array(pf_collection[name]['H Dens']), format='E')\n",
    "    SCALE_N = pyfits.Column(name='SCALE N', array=np.array(pf_collection[name]['N Scale']), format='E')\n",
    "    SCALE_C = pyfits.Column(name='SCALE C', array=np.array(pf_collection[name]['C Scale']), format='E')\n",
    "    SCALE_SI = pyfits.Column(name='SCALE SI', array=np.array(pf_collection[name]['Si Scale']), format='E')\n",
    "    \n",
    "    hdu.append(pyfits.BinTableHDU.from_columns([GAL, IND, MET, LOGU, HDENS, SCALE_N, SCALE_C, SCALE_SI]))\n",
    "    hdu[i].header['EXTNAME'] = name\n",
    "    \n",
    "hdu.writeto(outfile,overwrite=True)\n",
    "hdu.close()"
   ]
  },
  {
   "cell_type": "markdown",
   "metadata": {},
   "source": [
    "As of now, this is clearly not working."
   ]
  },
  {
   "cell_type": "markdown",
   "metadata": {},
   "source": [
    "Questions and Notes:"
   ]
  },
  {
   "cell_type": "markdown",
   "metadata": {},
   "source": [
    "--- Should we expect to have a large number of fits files or a singular file?"
   ]
  },
  {
   "cell_type": "markdown",
   "metadata": {},
   "source": [
    "--- What should we expect to see for a given galaxy?"
   ]
  },
  {
   "cell_type": "markdown",
   "metadata": {},
   "source": [
    "--- it might be worth displaying the data in python, effectively reading in our file and viewing it this way for easy reference and verification."
   ]
  },
  {
   "cell_type": "markdown",
   "metadata": {},
   "source": [
    "## Reading in Data for Verification"
   ]
  },
  {
   "cell_type": "code",
   "execution_count": null,
   "metadata": {},
   "outputs": [],
   "source": []
  },
  {
   "cell_type": "markdown",
   "metadata": {},
   "source": [
    "# CREATING INPUT FILES FOR ALL GALAXY VARIATIONS"
   ]
  },
  {
   "cell_type": "code",
   "execution_count": 232,
   "metadata": {
    "scrolled": true
   },
   "outputs": [
    {
     "name": "stdout",
     "output_type": "stream",
     "text": [
      "###############\n",
      "title file\n",
      "###############\n",
      "set save prefix \"file\"\n",
      "table SED J10.txt\n",
      "ionization parameter -2 vary\n",
      "Grid -3 to -1 step 0.25\n",
      "hden 2\n",
      "sphere\n",
      "abundances gass10 no grains\n",
      "Orion grains\n",
      "metals and grains 0.05 vary\n",
      "Grid 0 to 1 step 0.25 linear\n",
      "element scale factor nitrogen 0.25\n",
      "element scale factor carbon 0.25\n",
      "element scale factor silicon 0.1\n",
      "iterate to convergence\n"
     ]
    }
   ],
   "source": [
    "def input_files(file, galaxy_txt, ion_param, ion_lb, ion_ub, ion_step, hden, metal, mg_lb, mg_ub, mg_step, n_scale, c_scale, si_scale):\n",
    "    print('###############')\n",
    "    print('title', file)\n",
    "    print('###############')\n",
    "    print('set save prefix \"' + file + '\"')\n",
    "    print('table SED', galaxy_txt)\n",
    "    print('ionization parameter', ion_param,'vary')\n",
    "    print('Grid', ion_lb, 'to', ion_ub,'step', ion_step)\n",
    "    print('hden', hden)\n",
    "    print('sphere')\n",
    "    print('abundances gass10 no grains')\n",
    "    print('Orion grains')\n",
    "    print('metals and grains', metal, 'vary')\n",
    "    print('Grid', mg_lb, 'to', mg_ub, 'step', mg_step, 'linear')\n",
    "    print('element scale factor nitrogen', n_scale)\n",
    "    print('element scale factor carbon', c_scale)\n",
    "    print('element scale factor silicon', si_scale)\n",
    "    print('iterate to convergence')\n",
    "\n",
    "input_files('file', 'J10.txt', -2,-3,-1,.25,2,0.05,0,1,0.25,0.25,0.25,0.1)"
   ]
  }
 ],
 "metadata": {
  "kernelspec": {
   "display_name": "Python 3",
   "language": "python",
   "name": "python3"
  },
  "language_info": {
   "codemirror_mode": {
    "name": "ipython",
    "version": 3
   },
   "file_extension": ".py",
   "mimetype": "text/x-python",
   "name": "python",
   "nbconvert_exporter": "python",
   "pygments_lexer": "ipython3",
   "version": "3.8.5"
  },
  "toc": {
   "base_numbering": 1,
   "nav_menu": {},
   "number_sections": true,
   "sideBar": true,
   "skip_h1_title": false,
   "title_cell": "Notebook Chapters",
   "title_sidebar": "Notebook Chapters",
   "toc_cell": false,
   "toc_position": {},
   "toc_section_display": true,
   "toc_window_display": false
  },
  "varInspector": {
   "cols": {
    "lenName": 16,
    "lenType": 16,
    "lenVar": 40
   },
   "kernels_config": {
    "python": {
     "delete_cmd_postfix": "",
     "delete_cmd_prefix": "del ",
     "library": "var_list.py",
     "varRefreshCmd": "print(var_dic_list())"
    },
    "r": {
     "delete_cmd_postfix": ") ",
     "delete_cmd_prefix": "rm(",
     "library": "var_list.r",
     "varRefreshCmd": "cat(var_dic_list()) "
    }
   },
   "types_to_exclude": [
    "module",
    "function",
    "builtin_function_or_method",
    "instance",
    "_Feature"
   ],
   "window_display": false
  }
 },
 "nbformat": 4,
 "nbformat_minor": 4
}
